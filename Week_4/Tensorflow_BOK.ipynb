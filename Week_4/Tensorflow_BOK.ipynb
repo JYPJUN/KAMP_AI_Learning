{
 "cells": [
  {
   "cell_type": "markdown",
   "id": "8322e15b",
   "metadata": {},
   "source": [
    "# 10. 케라스를 사용한 인공 신경망 소개\n",
    "## 10.1 생물학적 뉴런에서 인공 뉴런까지\n",
    "### 10.1.1 생물학적 뉴런\n",
    "### 10.1.2 뉴런을 사용한 논리 연산\n",
    "### 10.1.3 퍼셉트론"
   ]
  },
  {
   "cell_type": "code",
   "execution_count": 1,
   "id": "542f3f92",
   "metadata": {},
   "outputs": [
    {
     "name": "stdout",
     "output_type": "stream",
     "text": [
      "[ True False]\n"
     ]
    }
   ],
   "source": [
    "import numpy as np\n",
    "from sklearn.datasets import load_iris\n",
    "from sklearn.linear_model import Perceptron\n",
    "\n",
    "iris = load_iris(as_frame = True)\n",
    "X = iris.data[[\"petal length (cm)\", \"petal width (cm)\"]].values\n",
    "y = (iris.target == 0) # Iris-setosa\n",
    "\n",
    "per_clf = Perceptron(random_state=42)\n",
    "per_clf.fit(X, y)\n",
    "\n",
    "X_new = [[2, 0.5], [3,1]]\n",
    "y_pred = per_clf.predict(X_new) # 두 꽃에 대한 예측은 True와 False\n",
    "print(y_pred)"
   ]
  },
  {
   "cell_type": "markdown",
   "id": "be315905",
   "metadata": {},
   "source": [
    "### 10.1.4 다층 퍼셉트론과 역전파\n",
    "### 10.1.5 회귀를 위한 다층 퍼셉트론"
   ]
  },
  {
   "cell_type": "code",
   "execution_count": 2,
   "id": "f5cd34df",
   "metadata": {},
   "outputs": [
    {
     "name": "stdout",
     "output_type": "stream",
     "text": [
      "0.5053326657967822\n"
     ]
    },
    {
     "name": "stderr",
     "output_type": "stream",
     "text": [
      "c:\\Users\\SSAFY\\AppData\\Local\\Programs\\Python\\Python39\\lib\\site-packages\\sklearn\\metrics\\_regression.py:492: FutureWarning: 'squared' is deprecated in version 1.4 and will be removed in 1.6. To calculate the root mean squared error, use the function'root_mean_squared_error'.\n",
      "  warnings.warn(\n"
     ]
    }
   ],
   "source": [
    "from sklearn.datasets import fetch_california_housing\n",
    "from sklearn.metrics import mean_squared_error\n",
    "# from sklearn.metrics import root_mean_squared_error\n",
    "from sklearn.model_selection import train_test_split\n",
    "from sklearn.neural_network import MLPRegressor\n",
    "from sklearn.pipeline import make_pipeline\n",
    "from sklearn.preprocessing import StandardScaler\n",
    "\n",
    "housing = fetch_california_housing()\n",
    "X_train_full, X_test, y_train_full, y_test = train_test_split(housing.data, housing.target, random_state=42)\n",
    "X_train, X_valid, y_train, y_valid = train_test_split(X_train_full, y_train_full, random_state=42)\n",
    "\n",
    "mlp_reg = MLPRegressor(hidden_layer_sizes=[50, 50, 50], random_state=42)\n",
    "pipeline = make_pipeline(StandardScaler(), mlp_reg)\n",
    "pipeline.fit(X_train, y_train)\n",
    "y_pred = pipeline.predict(X_valid)\n",
    "rmse = mean_squared_error(y_valid, y_pred, squared=False)\n",
    "print(rmse)"
   ]
  },
  {
   "cell_type": "markdown",
   "id": "ebe5a484",
   "metadata": {},
   "source": [
    "- 회귀 MLP의 전형적인 구조\n",
    "\n",
    "| 하이퍼 파라미터 | 일반적인 값 |\n",
    "| :------: | :------ |\n",
    "| 은닉 층 수 | 문제에 따라 다름(일반적으로 1~5)|\n",
    "| 은닉층 뉴런 수 | 문제에 따라 다름(일반적으로 10~100) |\n",
    "| 출력 뉴런 수 | 예측 차원마다 하나 |\n",
    "| 은닉 층의 활성화함수 | ReLU |\n",
    "| 출력 층의 활성화함수 | 없음. 또는 (출력이 양수일 때)ReLU / 소프트 플러스나 (출력을 특정 범위로 제한할 때) 로지스틱 / tanh를 사용 |\n",
    "| 손실 함수 | MSE 또는 (이상치가 있다면) 후버 |"
   ]
  },
  {
   "cell_type": "markdown",
   "id": "de02c25e",
   "metadata": {},
   "source": [
    "### 10.1.6 분류를 위한 다층 퍼셉트론\n",
    "- 분류 MLP의 전형적인 구조\n",
    "\n",
    "| 하이퍼 파라미터 | 이진 분류 | 다중 레이블 분류 | 다중 분류 | \n",
    "| :------: | :---: | :---: | :---: |\n",
    "| 은닉 층 수 | 문제에 따라 다름(일반적으로 1~5 사이) | .. | .. |\n",
    "| 출력 뉴런 수 | 1개 | 이진 레이블마다 1개 | 클래스마다 1개 |\n",
    "| 출력 층의 활성화 함수 | 시그모이드 함수 | 시그모이드 함수 | 소프트맥스 함수 |\n",
    "| 손실 함수 | 크로스 엔트로피 | 크로스 엔트로피 | 크로스 엔트로피 |"
   ]
  },
  {
   "cell_type": "markdown",
   "id": "805d2cd7",
   "metadata": {},
   "source": [
    "## 10.2 케라스로 다층 퍼셉트론 구현하기\n",
    "### 10.2.1 시퀀셜 API로 이미지 분류기 만들기\n",
    "- 케라스로 데이터셋 적재하기"
   ]
  },
  {
   "cell_type": "code",
   "execution_count": 3,
   "id": "25fa687c",
   "metadata": {},
   "outputs": [
    {
     "name": "stdout",
     "output_type": "stream",
     "text": [
      "(55000, 28, 28)\n",
      "uint8\n"
     ]
    }
   ],
   "source": [
    "import tensorflow as tf\n",
    "\n",
    "fashion_mnist = tf.keras.datasets.fashion_mnist.load_data()\n",
    "(X_train_full, y_train_full), (X_test, y_test) = fashion_mnist\n",
    "X_train, y_train = X_train_full[:-5000], y_train_full[:-5000]\n",
    "X_valid, y_valid = X_train_full[-5000:], y_train_full[-5000:]\n",
    "print(X_train.shape)\n",
    "print(X_train.dtype)"
   ]
  },
  {
   "cell_type": "code",
   "execution_count": 4,
   "id": "674097eb",
   "metadata": {},
   "outputs": [
    {
     "data": {
      "text/plain": [
       "'Ankle boot'"
      ]
     },
     "execution_count": 4,
     "metadata": {},
     "output_type": "execute_result"
    }
   ],
   "source": [
    "X_train, X_valid, X_test = X_train / 255., X_valid / 255. , X_test / 255.\n",
    "class_names = ['T-shirt/top', 'Trouser', 'Pullover', 'Dress', 'Coat', 'Sandal', 'Shirt', 'Sneaker', 'Bag', 'Ankle boot']\n",
    "class_names[y_train[0]]"
   ]
  },
  {
   "cell_type": "code",
   "execution_count": 5,
   "id": "9f8c8a83",
   "metadata": {},
   "outputs": [],
   "source": [
    "# 시퀀셜 API로 모델 만들기\n",
    "# 1. 랜덤 시드 설정\n",
    "tf.random.set_seed(42)\n",
    "# 2. Sequential 모델 생성\n",
    "model = tf.keras.Sequential()\n",
    "# 3. 입력 층을 만들어 모델에 추가 샘플의 크기만 담음\n",
    "model.add(tf.keras.layers.Input(shape=[28, 28]))\n",
    "# 4. Flatten 층 추가 각 입력 이미지를 1차원 배열로 변환\n",
    "model.add(tf.keras.layers.Flatten())\n",
    "# 5. 뉴런 300개를 가진 Dense층 추가, ReLU\n",
    "model.add(tf.keras.layers.Dense(300, activation='relu'))\n",
    "# 6. 얘도 ReLU\n",
    "model.add(tf.keras.layers.Dense(100, activation='relu'))\n",
    "# 7. 뉴런 10개를 가진 출력 층, Softmax\n",
    "model.add(tf.keras.layers.Dense(10, activation='softmax'))"
   ]
  },
  {
   "cell_type": "code",
   "execution_count": 6,
   "id": "2349f24b",
   "metadata": {},
   "outputs": [
    {
     "name": "stderr",
     "output_type": "stream",
     "text": [
      "c:\\Users\\SSAFY\\AppData\\Local\\Programs\\Python\\Python39\\lib\\site-packages\\keras\\src\\layers\\reshaping\\flatten.py:37: UserWarning: Do not pass an `input_shape`/`input_dim` argument to a layer. When using Sequential models, prefer using an `Input(shape)` object as the first layer in the model instead.\n",
      "  super().__init__(**kwargs)\n"
     ]
    }
   ],
   "source": [
    "# 위와 같은 코드\n",
    "model = tf.keras.Sequential([\n",
    "    tf.keras.layers.Flatten(input_shape=(28, 28)),\n",
    "    tf.keras.layers.Dense(300, activation='relu'),\n",
    "    tf.keras.layers.Dense(100, activation='relu'),\n",
    "    tf.keras.layers.Dense(10, activation='softmax')\n",
    "])"
   ]
  },
  {
   "cell_type": "code",
   "execution_count": 7,
   "id": "f0441696",
   "metadata": {},
   "outputs": [
    {
     "data": {
      "text/html": [
       "<pre style=\"white-space:pre;overflow-x:auto;line-height:normal;font-family:Menlo,'DejaVu Sans Mono',consolas,'Courier New',monospace\"><span style=\"font-weight: bold\">Model: \"sequential_1\"</span>\n",
       "</pre>\n"
      ],
      "text/plain": [
       "\u001b[1mModel: \"sequential_1\"\u001b[0m\n"
      ]
     },
     "metadata": {},
     "output_type": "display_data"
    },
    {
     "data": {
      "text/html": [
       "<pre style=\"white-space:pre;overflow-x:auto;line-height:normal;font-family:Menlo,'DejaVu Sans Mono',consolas,'Courier New',monospace\">┏━━━━━━━━━━━━━━━━━━━━━━━━━━━━━━━━━┳━━━━━━━━━━━━━━━━━━━━━━━━┳━━━━━━━━━━━━━━━┓\n",
       "┃<span style=\"font-weight: bold\"> Layer (type)                    </span>┃<span style=\"font-weight: bold\"> Output Shape           </span>┃<span style=\"font-weight: bold\">       Param # </span>┃\n",
       "┡━━━━━━━━━━━━━━━━━━━━━━━━━━━━━━━━━╇━━━━━━━━━━━━━━━━━━━━━━━━╇━━━━━━━━━━━━━━━┩\n",
       "│ flatten_1 (<span style=\"color: #0087ff; text-decoration-color: #0087ff\">Flatten</span>)             │ (<span style=\"color: #00d7ff; text-decoration-color: #00d7ff\">None</span>, <span style=\"color: #00af00; text-decoration-color: #00af00\">784</span>)            │             <span style=\"color: #00af00; text-decoration-color: #00af00\">0</span> │\n",
       "├─────────────────────────────────┼────────────────────────┼───────────────┤\n",
       "│ dense_3 (<span style=\"color: #0087ff; text-decoration-color: #0087ff\">Dense</span>)                 │ (<span style=\"color: #00d7ff; text-decoration-color: #00d7ff\">None</span>, <span style=\"color: #00af00; text-decoration-color: #00af00\">300</span>)            │       <span style=\"color: #00af00; text-decoration-color: #00af00\">235,500</span> │\n",
       "├─────────────────────────────────┼────────────────────────┼───────────────┤\n",
       "│ dense_4 (<span style=\"color: #0087ff; text-decoration-color: #0087ff\">Dense</span>)                 │ (<span style=\"color: #00d7ff; text-decoration-color: #00d7ff\">None</span>, <span style=\"color: #00af00; text-decoration-color: #00af00\">100</span>)            │        <span style=\"color: #00af00; text-decoration-color: #00af00\">30,100</span> │\n",
       "├─────────────────────────────────┼────────────────────────┼───────────────┤\n",
       "│ dense_5 (<span style=\"color: #0087ff; text-decoration-color: #0087ff\">Dense</span>)                 │ (<span style=\"color: #00d7ff; text-decoration-color: #00d7ff\">None</span>, <span style=\"color: #00af00; text-decoration-color: #00af00\">10</span>)             │         <span style=\"color: #00af00; text-decoration-color: #00af00\">1,010</span> │\n",
       "└─────────────────────────────────┴────────────────────────┴───────────────┘\n",
       "</pre>\n"
      ],
      "text/plain": [
       "┏━━━━━━━━━━━━━━━━━━━━━━━━━━━━━━━━━┳━━━━━━━━━━━━━━━━━━━━━━━━┳━━━━━━━━━━━━━━━┓\n",
       "┃\u001b[1m \u001b[0m\u001b[1mLayer (type)                   \u001b[0m\u001b[1m \u001b[0m┃\u001b[1m \u001b[0m\u001b[1mOutput Shape          \u001b[0m\u001b[1m \u001b[0m┃\u001b[1m \u001b[0m\u001b[1m      Param #\u001b[0m\u001b[1m \u001b[0m┃\n",
       "┡━━━━━━━━━━━━━━━━━━━━━━━━━━━━━━━━━╇━━━━━━━━━━━━━━━━━━━━━━━━╇━━━━━━━━━━━━━━━┩\n",
       "│ flatten_1 (\u001b[38;5;33mFlatten\u001b[0m)             │ (\u001b[38;5;45mNone\u001b[0m, \u001b[38;5;34m784\u001b[0m)            │             \u001b[38;5;34m0\u001b[0m │\n",
       "├─────────────────────────────────┼────────────────────────┼───────────────┤\n",
       "│ dense_3 (\u001b[38;5;33mDense\u001b[0m)                 │ (\u001b[38;5;45mNone\u001b[0m, \u001b[38;5;34m300\u001b[0m)            │       \u001b[38;5;34m235,500\u001b[0m │\n",
       "├─────────────────────────────────┼────────────────────────┼───────────────┤\n",
       "│ dense_4 (\u001b[38;5;33mDense\u001b[0m)                 │ (\u001b[38;5;45mNone\u001b[0m, \u001b[38;5;34m100\u001b[0m)            │        \u001b[38;5;34m30,100\u001b[0m │\n",
       "├─────────────────────────────────┼────────────────────────┼───────────────┤\n",
       "│ dense_5 (\u001b[38;5;33mDense\u001b[0m)                 │ (\u001b[38;5;45mNone\u001b[0m, \u001b[38;5;34m10\u001b[0m)             │         \u001b[38;5;34m1,010\u001b[0m │\n",
       "└─────────────────────────────────┴────────────────────────┴───────────────┘\n"
      ]
     },
     "metadata": {},
     "output_type": "display_data"
    },
    {
     "data": {
      "text/html": [
       "<pre style=\"white-space:pre;overflow-x:auto;line-height:normal;font-family:Menlo,'DejaVu Sans Mono',consolas,'Courier New',monospace\"><span style=\"font-weight: bold\"> Total params: </span><span style=\"color: #00af00; text-decoration-color: #00af00\">266,610</span> (1.02 MB)\n",
       "</pre>\n"
      ],
      "text/plain": [
       "\u001b[1m Total params: \u001b[0m\u001b[38;5;34m266,610\u001b[0m (1.02 MB)\n"
      ]
     },
     "metadata": {},
     "output_type": "display_data"
    },
    {
     "data": {
      "text/html": [
       "<pre style=\"white-space:pre;overflow-x:auto;line-height:normal;font-family:Menlo,'DejaVu Sans Mono',consolas,'Courier New',monospace\"><span style=\"font-weight: bold\"> Trainable params: </span><span style=\"color: #00af00; text-decoration-color: #00af00\">266,610</span> (1.02 MB)\n",
       "</pre>\n"
      ],
      "text/plain": [
       "\u001b[1m Trainable params: \u001b[0m\u001b[38;5;34m266,610\u001b[0m (1.02 MB)\n"
      ]
     },
     "metadata": {},
     "output_type": "display_data"
    },
    {
     "data": {
      "text/html": [
       "<pre style=\"white-space:pre;overflow-x:auto;line-height:normal;font-family:Menlo,'DejaVu Sans Mono',consolas,'Courier New',monospace\"><span style=\"font-weight: bold\"> Non-trainable params: </span><span style=\"color: #00af00; text-decoration-color: #00af00\">0</span> (0.00 B)\n",
       "</pre>\n"
      ],
      "text/plain": [
       "\u001b[1m Non-trainable params: \u001b[0m\u001b[38;5;34m0\u001b[0m (0.00 B)\n"
      ]
     },
     "metadata": {},
     "output_type": "display_data"
    },
    {
     "name": "stdout",
     "output_type": "stream",
     "text": [
      "None\n"
     ]
    }
   ],
   "source": [
    "print(model.summary())"
   ]
  },
  {
   "cell_type": "code",
   "execution_count": 8,
   "id": "ae5014f3",
   "metadata": {},
   "outputs": [
    {
     "name": "stdout",
     "output_type": "stream",
     "text": [
      "[<Flatten name=flatten_1, built=True>, <Dense name=dense_3, built=True>, <Dense name=dense_4, built=True>, <Dense name=dense_5, built=True>]\n"
     ]
    }
   ],
   "source": [
    "print(model.layers)"
   ]
  },
  {
   "cell_type": "code",
   "execution_count": 9,
   "id": "b3782148",
   "metadata": {},
   "outputs": [
    {
     "name": "stdout",
     "output_type": "stream",
     "text": [
      "dense_3\n",
      "False\n"
     ]
    }
   ],
   "source": [
    "hidden1 = model.layers[1]\n",
    "print(hidden1.name)\n",
    "print(model.get_layer('dense_5') is hidden1)"
   ]
  },
  {
   "cell_type": "code",
   "execution_count": 10,
   "id": "3bd3ad00",
   "metadata": {},
   "outputs": [
    {
     "data": {
      "text/plain": [
       "array([[ 0.07427862,  0.06086814, -0.06623831, ..., -0.05383354,\n",
       "        -0.00240738,  0.0231621 ],\n",
       "       [-0.04200137, -0.06060195,  0.06622456, ..., -0.02650929,\n",
       "         0.06588878,  0.02938859],\n",
       "       [ 0.07205781,  0.04960769,  0.06918785, ..., -0.00624011,\n",
       "         0.0087291 , -0.06276458],\n",
       "       ...,\n",
       "       [ 0.03508892, -0.02782023, -0.04347899, ..., -0.05593865,\n",
       "        -0.02722936,  0.06788577],\n",
       "       [-0.07410028,  0.01115372, -0.04178382, ...,  0.01431792,\n",
       "         0.07408482,  0.05000805],\n",
       "       [ 0.0397689 , -0.04546556, -0.0447939 , ...,  0.03444909,\n",
       "        -0.03723447, -0.02908396]], dtype=float32)"
      ]
     },
     "execution_count": 10,
     "metadata": {},
     "output_type": "execute_result"
    }
   ],
   "source": [
    "weights, biases = hidden1.get_weights()\n",
    "weights"
   ]
  },
  {
   "cell_type": "code",
   "execution_count": 11,
   "id": "eb40e50e",
   "metadata": {},
   "outputs": [],
   "source": [
    "# 모델 컴파일\n",
    "model.compile(loss='sparse_categorical_crossentropy', optimizer='sgd', metrics=['accuracy'])"
   ]
  },
  {
   "cell_type": "code",
   "execution_count": 12,
   "id": "cc5d4b27",
   "metadata": {},
   "outputs": [
    {
     "name": "stdout",
     "output_type": "stream",
     "text": [
      "Epoch 1/30\n",
      "\u001b[1m1719/1719\u001b[0m \u001b[32m━━━━━━━━━━━━━━━━━━━━\u001b[0m\u001b[37m\u001b[0m \u001b[1m2s\u001b[0m 972us/step - accuracy: 0.6791 - loss: 1.0057 - val_accuracy: 0.8340 - val_loss: 0.5023\n",
      "Epoch 2/30\n",
      "\u001b[1m1719/1719\u001b[0m \u001b[32m━━━━━━━━━━━━━━━━━━━━\u001b[0m\u001b[37m\u001b[0m \u001b[1m2s\u001b[0m 996us/step - accuracy: 0.8267 - loss: 0.5088 - val_accuracy: 0.8426 - val_loss: 0.4540\n",
      "Epoch 3/30\n",
      "\u001b[1m1719/1719\u001b[0m \u001b[32m━━━━━━━━━━━━━━━━━━━━\u001b[0m\u001b[37m\u001b[0m \u001b[1m2s\u001b[0m 974us/step - accuracy: 0.8427 - loss: 0.4569 - val_accuracy: 0.8496 - val_loss: 0.4295\n",
      "Epoch 4/30\n",
      "\u001b[1m1719/1719\u001b[0m \u001b[32m━━━━━━━━━━━━━━━━━━━━\u001b[0m\u001b[37m\u001b[0m \u001b[1m2s\u001b[0m 883us/step - accuracy: 0.8524 - loss: 0.4265 - val_accuracy: 0.8522 - val_loss: 0.4137\n",
      "Epoch 5/30\n",
      "\u001b[1m1719/1719\u001b[0m \u001b[32m━━━━━━━━━━━━━━━━━━━━\u001b[0m\u001b[37m\u001b[0m \u001b[1m2s\u001b[0m 1ms/step - accuracy: 0.8597 - loss: 0.4046 - val_accuracy: 0.8542 - val_loss: 0.4014\n",
      "Epoch 6/30\n",
      "\u001b[1m1719/1719\u001b[0m \u001b[32m━━━━━━━━━━━━━━━━━━━━\u001b[0m\u001b[37m\u001b[0m \u001b[1m2s\u001b[0m 921us/step - accuracy: 0.8650 - loss: 0.3879 - val_accuracy: 0.8568 - val_loss: 0.3944\n",
      "Epoch 7/30\n",
      "\u001b[1m1719/1719\u001b[0m \u001b[32m━━━━━━━━━━━━━━━━━━━━\u001b[0m\u001b[37m\u001b[0m \u001b[1m2s\u001b[0m 959us/step - accuracy: 0.8700 - loss: 0.3738 - val_accuracy: 0.8602 - val_loss: 0.3861\n",
      "Epoch 8/30\n",
      "\u001b[1m1719/1719\u001b[0m \u001b[32m━━━━━━━━━━━━━━━━━━━━\u001b[0m\u001b[37m\u001b[0m \u001b[1m2s\u001b[0m 1ms/step - accuracy: 0.8746 - loss: 0.3614 - val_accuracy: 0.8638 - val_loss: 0.3790\n",
      "Epoch 9/30\n",
      "\u001b[1m1719/1719\u001b[0m \u001b[32m━━━━━━━━━━━━━━━━━━━━\u001b[0m\u001b[37m\u001b[0m \u001b[1m2s\u001b[0m 970us/step - accuracy: 0.8782 - loss: 0.3502 - val_accuracy: 0.8658 - val_loss: 0.3728\n",
      "Epoch 10/30\n",
      "\u001b[1m1719/1719\u001b[0m \u001b[32m━━━━━━━━━━━━━━━━━━━━\u001b[0m\u001b[37m\u001b[0m \u001b[1m2s\u001b[0m 959us/step - accuracy: 0.8815 - loss: 0.3402 - val_accuracy: 0.8676 - val_loss: 0.3686\n",
      "Epoch 11/30\n",
      "\u001b[1m1719/1719\u001b[0m \u001b[32m━━━━━━━━━━━━━━━━━━━━\u001b[0m\u001b[37m\u001b[0m \u001b[1m2s\u001b[0m 939us/step - accuracy: 0.8844 - loss: 0.3311 - val_accuracy: 0.8700 - val_loss: 0.3641\n",
      "Epoch 12/30\n",
      "\u001b[1m1719/1719\u001b[0m \u001b[32m━━━━━━━━━━━━━━━━━━━━\u001b[0m\u001b[37m\u001b[0m \u001b[1m2s\u001b[0m 943us/step - accuracy: 0.8867 - loss: 0.3226 - val_accuracy: 0.8702 - val_loss: 0.3593\n",
      "Epoch 13/30\n",
      "\u001b[1m1719/1719\u001b[0m \u001b[32m━━━━━━━━━━━━━━━━━━━━\u001b[0m\u001b[37m\u001b[0m \u001b[1m2s\u001b[0m 955us/step - accuracy: 0.8890 - loss: 0.3147 - val_accuracy: 0.8704 - val_loss: 0.3574\n",
      "Epoch 14/30\n",
      "\u001b[1m1719/1719\u001b[0m \u001b[32m━━━━━━━━━━━━━━━━━━━━\u001b[0m\u001b[37m\u001b[0m \u001b[1m2s\u001b[0m 1ms/step - accuracy: 0.8911 - loss: 0.3073 - val_accuracy: 0.8708 - val_loss: 0.3551\n",
      "Epoch 15/30\n",
      "\u001b[1m1719/1719\u001b[0m \u001b[32m━━━━━━━━━━━━━━━━━━━━\u001b[0m\u001b[37m\u001b[0m \u001b[1m2s\u001b[0m 995us/step - accuracy: 0.8940 - loss: 0.3005 - val_accuracy: 0.8720 - val_loss: 0.3525\n",
      "Epoch 16/30\n",
      "\u001b[1m1719/1719\u001b[0m \u001b[32m━━━━━━━━━━━━━━━━━━━━\u001b[0m\u001b[37m\u001b[0m \u001b[1m2s\u001b[0m 1ms/step - accuracy: 0.8964 - loss: 0.2938 - val_accuracy: 0.8712 - val_loss: 0.3509\n",
      "Epoch 17/30\n",
      "\u001b[1m1719/1719\u001b[0m \u001b[32m━━━━━━━━━━━━━━━━━━━━\u001b[0m\u001b[37m\u001b[0m \u001b[1m2s\u001b[0m 1ms/step - accuracy: 0.8983 - loss: 0.2875 - val_accuracy: 0.8714 - val_loss: 0.3482\n",
      "Epoch 18/30\n",
      "\u001b[1m1719/1719\u001b[0m \u001b[32m━━━━━━━━━━━━━━━━━━━━\u001b[0m\u001b[37m\u001b[0m \u001b[1m2s\u001b[0m 1ms/step - accuracy: 0.8994 - loss: 0.2814 - val_accuracy: 0.8736 - val_loss: 0.3476\n",
      "Epoch 19/30\n",
      "\u001b[1m1719/1719\u001b[0m \u001b[32m━━━━━━━━━━━━━━━━━━━━\u001b[0m\u001b[37m\u001b[0m \u001b[1m2s\u001b[0m 939us/step - accuracy: 0.9015 - loss: 0.2758 - val_accuracy: 0.8720 - val_loss: 0.3470\n",
      "Epoch 20/30\n",
      "\u001b[1m1719/1719\u001b[0m \u001b[32m━━━━━━━━━━━━━━━━━━━━\u001b[0m\u001b[37m\u001b[0m \u001b[1m2s\u001b[0m 877us/step - accuracy: 0.9038 - loss: 0.2703 - val_accuracy: 0.8750 - val_loss: 0.3456\n",
      "Epoch 21/30\n",
      "\u001b[1m1719/1719\u001b[0m \u001b[32m━━━━━━━━━━━━━━━━━━━━\u001b[0m\u001b[37m\u001b[0m \u001b[1m2s\u001b[0m 888us/step - accuracy: 0.9058 - loss: 0.2651 - val_accuracy: 0.8734 - val_loss: 0.3475\n",
      "Epoch 22/30\n",
      "\u001b[1m1719/1719\u001b[0m \u001b[32m━━━━━━━━━━━━━━━━━━━━\u001b[0m\u001b[37m\u001b[0m \u001b[1m2s\u001b[0m 997us/step - accuracy: 0.9082 - loss: 0.2602 - val_accuracy: 0.8736 - val_loss: 0.3462\n",
      "Epoch 23/30\n",
      "\u001b[1m1719/1719\u001b[0m \u001b[32m━━━━━━━━━━━━━━━━━━━━\u001b[0m\u001b[37m\u001b[0m \u001b[1m2s\u001b[0m 912us/step - accuracy: 0.9099 - loss: 0.2552 - val_accuracy: 0.8734 - val_loss: 0.3464\n",
      "Epoch 24/30\n",
      "\u001b[1m1719/1719\u001b[0m \u001b[32m━━━━━━━━━━━━━━━━━━━━\u001b[0m\u001b[37m\u001b[0m \u001b[1m2s\u001b[0m 948us/step - accuracy: 0.9115 - loss: 0.2507 - val_accuracy: 0.8742 - val_loss: 0.3456\n",
      "Epoch 25/30\n",
      "\u001b[1m1719/1719\u001b[0m \u001b[32m━━━━━━━━━━━━━━━━━━━━\u001b[0m\u001b[37m\u001b[0m \u001b[1m2s\u001b[0m 946us/step - accuracy: 0.9133 - loss: 0.2459 - val_accuracy: 0.8752 - val_loss: 0.3458\n",
      "Epoch 26/30\n",
      "\u001b[1m1719/1719\u001b[0m \u001b[32m━━━━━━━━━━━━━━━━━━━━\u001b[0m\u001b[37m\u001b[0m \u001b[1m2s\u001b[0m 956us/step - accuracy: 0.9149 - loss: 0.2415 - val_accuracy: 0.8750 - val_loss: 0.3461\n",
      "Epoch 27/30\n",
      "\u001b[1m1719/1719\u001b[0m \u001b[32m━━━━━━━━━━━━━━━━━━━━\u001b[0m\u001b[37m\u001b[0m \u001b[1m2s\u001b[0m 982us/step - accuracy: 0.9163 - loss: 0.2371 - val_accuracy: 0.8752 - val_loss: 0.3452\n",
      "Epoch 28/30\n",
      "\u001b[1m1719/1719\u001b[0m \u001b[32m━━━━━━━━━━━━━━━━━━━━\u001b[0m\u001b[37m\u001b[0m \u001b[1m2s\u001b[0m 939us/step - accuracy: 0.9184 - loss: 0.2329 - val_accuracy: 0.8750 - val_loss: 0.3454\n",
      "Epoch 29/30\n",
      "\u001b[1m1719/1719\u001b[0m \u001b[32m━━━━━━━━━━━━━━━━━━━━\u001b[0m\u001b[37m\u001b[0m \u001b[1m2s\u001b[0m 918us/step - accuracy: 0.9201 - loss: 0.2288 - val_accuracy: 0.8754 - val_loss: 0.3443\n",
      "Epoch 30/30\n",
      "\u001b[1m1719/1719\u001b[0m \u001b[32m━━━━━━━━━━━━━━━━━━━━\u001b[0m\u001b[37m\u001b[0m \u001b[1m2s\u001b[0m 963us/step - accuracy: 0.9214 - loss: 0.2249 - val_accuracy: 0.8764 - val_loss: 0.3439\n"
     ]
    }
   ],
   "source": [
    "# 모델 훈련과 평가\n",
    "history = model.fit(X_train, y_train, epochs = 30, validation_data = (X_valid, y_valid))"
   ]
  },
  {
   "cell_type": "code",
   "execution_count": 13,
   "id": "e5f96a82",
   "metadata": {},
   "outputs": [
    {
     "name": "stderr",
     "output_type": "stream",
     "text": [
      "C:\\Users\\SSAFY\\AppData\\Roaming\\Python\\Python39\\site-packages\\IPython\\core\\pylabtools.py:152: UserWarning: Glyph 50640 (\\N{HANGUL SYLLABLE E}) missing from font(s) DejaVu Sans.\n",
      "  fig.canvas.print_figure(bytes_io, **kw)\n",
      "C:\\Users\\SSAFY\\AppData\\Roaming\\Python\\Python39\\site-packages\\IPython\\core\\pylabtools.py:152: UserWarning: Glyph 54252 (\\N{HANGUL SYLLABLE PO}) missing from font(s) DejaVu Sans.\n",
      "  fig.canvas.print_figure(bytes_io, **kw)\n",
      "C:\\Users\\SSAFY\\AppData\\Roaming\\Python\\Python39\\site-packages\\IPython\\core\\pylabtools.py:152: UserWarning: Glyph 53356 (\\N{HANGUL SYLLABLE KEU}) missing from font(s) DejaVu Sans.\n",
      "  fig.canvas.print_figure(bytes_io, **kw)\n"
     ]
    },
    {
     "data": {
      "image/png": "[encoded data removed]",
      "text/plain": [
       "<Figure size 800x500 with 1 Axes>"
      ]
     },
     "metadata": {},
     "output_type": "display_data"
    }
   ],
   "source": [
    "import matplotlib.pyplot as plt\n",
    "import pandas as pd\n",
    "\n",
    "pd.DataFrame(history.history).plot(figsize=(8, 5), xlim=[0, 29],ylim=[0, 1], grid=True, xlabel='에포크', style=['r--', 'r--', 'b-', 'b-*'])\n",
    "plt.show()"
   ]
  },
  {
   "cell_type": "code",
   "execution_count": 14,
   "id": "5157908a",
   "metadata": {},
   "outputs": [
    {
     "name": "stdout",
     "output_type": "stream",
     "text": [
      "\u001b[1m313/313\u001b[0m \u001b[32m━━━━━━━━━━━━━━━━━━━━\u001b[0m\u001b[37m\u001b[0m \u001b[1m0s\u001b[0m 525us/step - accuracy: 0.8744 - loss: 0.3620\n"
     ]
    },
    {
     "data": {
      "text/plain": [
       "[0.3627108037471771, 0.8738999962806702]"
      ]
     },
     "execution_count": 14,
     "metadata": {},
     "output_type": "execute_result"
    }
   ],
   "source": [
    "model.evaluate(X_test, y_test)"
   ]
  },
  {
   "cell_type": "code",
   "execution_count": 15,
   "id": "6b4c5d31",
   "metadata": {},
   "outputs": [
    {
     "name": "stdout",
     "output_type": "stream",
     "text": [
      "\u001b[1m1/1\u001b[0m \u001b[32m━━━━━━━━━━━━━━━━━━━━\u001b[0m\u001b[37m\u001b[0m \u001b[1m0s\u001b[0m 38ms/step\n"
     ]
    },
    {
     "data": {
      "text/plain": [
       "array([[0.  , 0.  , 0.  , 0.  , 0.  , 0.22, 0.  , 0.01, 0.  , 0.77],\n",
       "       [0.  , 0.  , 1.  , 0.  , 0.  , 0.  , 0.  , 0.  , 0.  , 0.  ],\n",
       "       [0.  , 1.  , 0.  , 0.  , 0.  , 0.  , 0.  , 0.  , 0.  , 0.  ]],\n",
       "      dtype=float32)"
      ]
     },
     "execution_count": 15,
     "metadata": {},
     "output_type": "execute_result"
    }
   ],
   "source": [
    "X_new = X_test[:3]\n",
    "y_proba = model.predict(X_new)\n",
    "y_proba.round(2)"
   ]
  },
  {
   "cell_type": "code",
   "execution_count": 16,
   "id": "4f12e91b",
   "metadata": {},
   "outputs": [
    {
     "data": {
      "text/plain": [
       "array([9, 2, 1], dtype=int64)"
      ]
     },
     "execution_count": 16,
     "metadata": {},
     "output_type": "execute_result"
    }
   ],
   "source": [
    "import numpy as np\n",
    "y_pred = y_proba.argmax(axis=-1)\n",
    "y_pred"
   ]
  },
  {
   "cell_type": "code",
   "execution_count": 17,
   "id": "401b69f0",
   "metadata": {},
   "outputs": [
    {
     "data": {
      "text/plain": [
       "array(['Ankle boot', 'Pullover', 'Trouser'], dtype='<U11')"
      ]
     },
     "execution_count": 17,
     "metadata": {},
     "output_type": "execute_result"
    }
   ],
   "source": [
    "np.array(class_names)[y_pred]"
   ]
  },
  {
   "cell_type": "code",
   "execution_count": 18,
   "id": "6e8fabb0",
   "metadata": {},
   "outputs": [
    {
     "data": {
      "text/plain": [
       "array([9, 2, 1], dtype=uint8)"
      ]
     },
     "execution_count": 18,
     "metadata": {},
     "output_type": "execute_result"
    }
   ],
   "source": [
    "y_new = y_test[:3]\n",
    "y_new"
   ]
  },
  {
   "cell_type": "markdown",
   "id": "fd54529a",
   "metadata": {},
   "source": [
    "### 10.2.2 시퀀셜 API로 회귀용 다층 퍼셉트론 만들기"
   ]
  },
  {
   "cell_type": "code",
   "execution_count": 19,
   "id": "5c7be550",
   "metadata": {},
   "outputs": [
    {
     "name": "stderr",
     "output_type": "stream",
     "text": [
      "c:\\Users\\SSAFY\\AppData\\Local\\Programs\\Python\\Python39\\lib\\site-packages\\keras\\src\\layers\\preprocessing\\tf_data_layer.py:19: UserWarning: Do not pass an `input_shape`/`input_dim` argument to a layer. When using Sequential models, prefer using an `Input(shape)` object as the first layer in the model instead.\n",
      "  super().__init__(**kwargs)\n"
     ]
    },
    {
     "name": "stdout",
     "output_type": "stream",
     "text": [
      "Epoch 1/20\n",
      "\u001b[1m1719/1719\u001b[0m \u001b[32m━━━━━━━━━━━━━━━━━━━━\u001b[0m\u001b[37m\u001b[0m \u001b[1m3s\u001b[0m 1ms/step - RootMeanSquaredError: 3.0976 - loss: 9.7063 - val_RootMeanSquaredError: 2.9036 - val_loss: 8.4308\n",
      "Epoch 2/20\n",
      "\u001b[1m1719/1719\u001b[0m \u001b[32m━━━━━━━━━━━━━━━━━━━━\u001b[0m\u001b[37m\u001b[0m \u001b[1m2s\u001b[0m 1ms/step - RootMeanSquaredError: 2.8855 - loss: 8.3260 - val_RootMeanSquaredError: 2.8997 - val_loss: 8.4085\n",
      "Epoch 3/20\n",
      "\u001b[1m1719/1719\u001b[0m \u001b[32m━━━━━━━━━━━━━━━━━━━━\u001b[0m\u001b[37m\u001b[0m \u001b[1m2s\u001b[0m 1ms/step - RootMeanSquaredError: 2.8797 - loss: 8.2929 - val_RootMeanSquaredError: 2.9005 - val_loss: 8.4131\n",
      "Epoch 4/20\n",
      "\u001b[1m1719/1719\u001b[0m \u001b[32m━━━━━━━━━━━━━━━━━━━━\u001b[0m\u001b[37m\u001b[0m \u001b[1m2s\u001b[0m 1ms/step - RootMeanSquaredError: 2.8778 - loss: 8.2818 - val_RootMeanSquaredError: 2.9003 - val_loss: 8.4116\n",
      "Epoch 5/20\n",
      "\u001b[1m1719/1719\u001b[0m \u001b[32m━━━━━━━━━━━━━━━━━━━━\u001b[0m\u001b[37m\u001b[0m \u001b[1m2s\u001b[0m 1ms/step - RootMeanSquaredError: 2.8767 - loss: 8.2753 - val_RootMeanSquaredError: 2.8980 - val_loss: 8.3987\n",
      "Epoch 6/20\n",
      "\u001b[1m1719/1719\u001b[0m \u001b[32m━━━━━━━━━━━━━━━━━━━━\u001b[0m\u001b[37m\u001b[0m \u001b[1m2s\u001b[0m 1ms/step - RootMeanSquaredError: 2.8758 - loss: 8.2706 - val_RootMeanSquaredError: 2.8958 - val_loss: 8.3859\n",
      "Epoch 7/20\n",
      "\u001b[1m1719/1719\u001b[0m \u001b[32m━━━━━━━━━━━━━━━━━━━━\u001b[0m\u001b[37m\u001b[0m \u001b[1m2s\u001b[0m 1ms/step - RootMeanSquaredError: 2.8754 - loss: 8.2682 - val_RootMeanSquaredError: 2.8958 - val_loss: 8.3857\n",
      "Epoch 8/20\n",
      "\u001b[1m1719/1719\u001b[0m \u001b[32m━━━━━━━━━━━━━━━━━━━━\u001b[0m\u001b[37m\u001b[0m \u001b[1m2s\u001b[0m 1ms/step - RootMeanSquaredError: 2.8750 - loss: 8.2654 - val_RootMeanSquaredError: 2.8949 - val_loss: 8.3802\n",
      "Epoch 9/20\n",
      "\u001b[1m1719/1719\u001b[0m \u001b[32m━━━━━━━━━━━━━━━━━━━━\u001b[0m\u001b[37m\u001b[0m \u001b[1m2s\u001b[0m 1ms/step - RootMeanSquaredError: 2.8743 - loss: 8.2618 - val_RootMeanSquaredError: 2.8940 - val_loss: 8.3753\n",
      "Epoch 10/20\n",
      "\u001b[1m1719/1719\u001b[0m \u001b[32m━━━━━━━━━━━━━━━━━━━━\u001b[0m\u001b[37m\u001b[0m \u001b[1m2s\u001b[0m 1ms/step - RootMeanSquaredError: 2.8739 - loss: 8.2596 - val_RootMeanSquaredError: 2.8930 - val_loss: 8.3695\n",
      "Epoch 11/20\n",
      "\u001b[1m1719/1719\u001b[0m \u001b[32m━━━━━━━━━━━━━━━━━━━━\u001b[0m\u001b[37m\u001b[0m \u001b[1m2s\u001b[0m 1ms/step - RootMeanSquaredError: 2.8736 - loss: 8.2575 - val_RootMeanSquaredError: 2.8926 - val_loss: 8.3674\n",
      "Epoch 12/20\n",
      "\u001b[1m1719/1719\u001b[0m \u001b[32m━━━━━━━━━━━━━━━━━━━━\u001b[0m\u001b[37m\u001b[0m \u001b[1m2s\u001b[0m 1ms/step - RootMeanSquaredError: 2.8732 - loss: 8.2551 - val_RootMeanSquaredError: 2.8926 - val_loss: 8.3670\n",
      "Epoch 13/20\n",
      "\u001b[1m1719/1719\u001b[0m \u001b[32m━━━━━━━━━━━━━━━━━━━━\u001b[0m\u001b[37m\u001b[0m \u001b[1m2s\u001b[0m 1ms/step - RootMeanSquaredError: 2.8729 - loss: 8.2535 - val_RootMeanSquaredError: 2.8926 - val_loss: 8.3671\n",
      "Epoch 14/20\n",
      "\u001b[1m1719/1719\u001b[0m \u001b[32m━━━━━━━━━━━━━━━━━━━━\u001b[0m\u001b[37m\u001b[0m \u001b[1m2s\u001b[0m 1ms/step - RootMeanSquaredError: 2.8725 - loss: 8.2512 - val_RootMeanSquaredError: 2.8927 - val_loss: 8.3676\n",
      "Epoch 15/20\n",
      "\u001b[1m1719/1719\u001b[0m \u001b[32m━━━━━━━━━━━━━━━━━━━━\u001b[0m\u001b[37m\u001b[0m \u001b[1m2s\u001b[0m 1ms/step - RootMeanSquaredError: 2.8722 - loss: 8.2496 - val_RootMeanSquaredError: 2.8927 - val_loss: 8.3679\n",
      "Epoch 16/20\n",
      "\u001b[1m1719/1719\u001b[0m \u001b[32m━━━━━━━━━━━━━━━━━━━━\u001b[0m\u001b[37m\u001b[0m \u001b[1m4s\u001b[0m 2ms/step - RootMeanSquaredError: 2.8720 - loss: 8.2486 - val_RootMeanSquaredError: 2.8928 - val_loss: 8.3683\n",
      "Epoch 17/20\n",
      "\u001b[1m1719/1719\u001b[0m \u001b[32m━━━━━━━━━━━━━━━━━━━━\u001b[0m\u001b[37m\u001b[0m \u001b[1m4s\u001b[0m 2ms/step - RootMeanSquaredError: 2.8719 - loss: 8.2477 - val_RootMeanSquaredError: 2.8929 - val_loss: 8.3687\n",
      "Epoch 18/20\n",
      "\u001b[1m1719/1719\u001b[0m \u001b[32m━━━━━━━━━━━━━━━━━━━━\u001b[0m\u001b[37m\u001b[0m \u001b[1m5s\u001b[0m 3ms/step - RootMeanSquaredError: 2.8719 - loss: 8.2476 - val_RootMeanSquaredError: 2.8929 - val_loss: 8.3689\n",
      "Epoch 19/20\n",
      "\u001b[1m1719/1719\u001b[0m \u001b[32m━━━━━━━━━━━━━━━━━━━━\u001b[0m\u001b[37m\u001b[0m \u001b[1m5s\u001b[0m 3ms/step - RootMeanSquaredError: 2.8717 - loss: 8.2470 - val_RootMeanSquaredError: 2.8930 - val_loss: 8.3692\n",
      "Epoch 20/20\n",
      "\u001b[1m1719/1719\u001b[0m \u001b[32m━━━━━━━━━━━━━━━━━━━━\u001b[0m\u001b[37m\u001b[0m \u001b[1m3s\u001b[0m 1ms/step - RootMeanSquaredError: 2.8717 - loss: 8.2465 - val_RootMeanSquaredError: 2.8930 - val_loss: 8.3695\n",
      "\u001b[1m313/313\u001b[0m \u001b[32m━━━━━━━━━━━━━━━━━━━━\u001b[0m\u001b[37m\u001b[0m \u001b[1m0s\u001b[0m 811us/step - RootMeanSquaredError: 2.8624 - loss: 8.1935\n",
      "\u001b[1m1/1\u001b[0m \u001b[32m━━━━━━━━━━━━━━━━━━━━\u001b[0m\u001b[37m\u001b[0m \u001b[1m0s\u001b[0m 41ms/step\n"
     ]
    }
   ],
   "source": [
    "tf.random.set_seed(42)\n",
    "norm_layer = tf.keras.layers.Normalization(input_shape=X_train.shape[1:])\n",
    "model = tf.keras.Sequential([\n",
    "  norm_layer,\n",
    "  tf.keras.layers.Dense(50, activation='relu'),\n",
    "  tf.keras.layers.Dense(50, activation='relu'),\n",
    "  tf.keras.layers.Dense(50, activation='relu'),\n",
    "  tf.keras.layers.Dense(1)\n",
    "])\n",
    "optimizer = tf.keras.optimizers.Adam(learning_rate=1e-3)\n",
    "model.compile(loss='mse', optimizer=optimizer, metrics=['RootMeanSquaredError'])\n",
    "norm_layer.adapt(X_train)\n",
    "history = model.fit(X_train, y_train, epochs = 20, validation_data=(X_valid, y_valid))\n",
    "mse_test, rmse_test = model.evaluate(X_test, y_test)\n",
    "X_new = X_test[:3]\n",
    "y_pred = model.predict(X_new)"
   ]
  },
  {
   "cell_type": "markdown",
   "id": "cb4473ff",
   "metadata": {},
   "source": [
    "### 10.2.3 함수형 API로 복잡한 모델 만들기"
   ]
  },
  {
   "cell_type": "code",
   "execution_count": 41,
   "id": "f986c69b",
   "metadata": {},
   "outputs": [],
   "source": [
    "# 1. 데이터 로드\n",
    "housing = fetch_california_housing()\n",
    "\n",
    "# 2. 훈련, 검증, 테스트 세트로 분할\n",
    "X_train_full, X_test, y_train_full, y_test = train_test_split(\n",
    "    housing.data, housing.target, test_size=0.2, random_state=42\n",
    ")\n",
    "\n",
    "X_train, X_valid, y_train, y_valid = train_test_split(\n",
    "    X_train_full, y_train_full, test_size=0.2, random_state=42\n",
    ")\n",
    "\n",
    "# 3. 특성 스케일링 (Standardization)\n",
    "scaler = StandardScaler()\n",
    "X_train = scaler.fit_transform(X_train)\n",
    "X_valid = scaler.transform(X_valid)\n",
    "X_test = scaler.transform(X_test)"
   ]
  },
  {
   "cell_type": "code",
   "execution_count": 20,
   "id": "01bdac37",
   "metadata": {},
   "outputs": [],
   "source": [
    "# 1. 5개의 층 생성\n",
    "normalization_layer = tf.keras.layers.Normalization()\n",
    "hidden_layer1 = tf.keras.layers.Dense(30, activation='relu')\n",
    "hidden_layer2 = tf.keras.layers.Dense(30, activation='relu')\n",
    "concat_layer = tf.keras.layers.Concatenate()\n",
    "output_layer = tf.keras.layers.Dense(1)\n",
    "# 2. input 객체 생성 모델이 받을 입력의 종류에 대한 사양, input과 dtype 매개변수를 가짐\n",
    "input_ = tf.keras.layers.Input(shape=X_train.shape[1:])\n",
    "# 3. Normalization 층을 함수처럼 사용해 Input 객체 전달\n",
    "normalized = normalization_layer(input_)\n",
    "# 4. 은닉층 2개 통과\n",
    "hidden1 = hidden_layer1(normalized)\n",
    "hidden2 = hidden_layer2(hidden1)\n",
    "# 5. 입력과 두 번째 은닉층의 출력을 연결\n",
    "concat = concat_layer([normalized, hidden2])\n",
    "# 6. output_layer로 전달해 최종 output을 얻음\n",
    "output = output_layer(concat)\n",
    "\n",
    "model = tf.keras.Model(inputs = [input_], outputs = [output])"
   ]
  },
  {
   "cell_type": "code",
   "execution_count": 44,
   "id": "b47d9202",
   "metadata": {},
   "outputs": [],
   "source": [
    "# 모델 구성\n",
    "input_wide = tf.keras.layers.Input(shape=[5])  # 0부터 4까지\n",
    "input_deep = tf.keras.layers.Input(shape=[6])  # 2부터 7까지\n",
    "\n",
    "# 정규화 레이어\n",
    "norm_layer_wide = tf.keras.layers.Normalization()\n",
    "norm_layer_deep = tf.keras.layers.Normalization()\n",
    "\n",
    "# 입력에 정규화 적용\n",
    "norm_wide = norm_layer_wide(input_wide)\n",
    "norm_deep = norm_layer_deep(input_deep)\n",
    "\n",
    "# 은닉층 구성\n",
    "hidden1 = tf.keras.layers.Dense(30, activation='relu')(norm_deep)\n",
    "hidden2 = tf.keras.layers.Dense(30, activation='relu')(hidden1)\n",
    "\n",
    "# wide와 deep 부분을 병합\n",
    "concat = tf.keras.layers.concatenate([norm_wide, hidden2])\n",
    "\n",
    "# 출력층\n",
    "output = tf.keras.layers.Dense(1)(concat)\n",
    "\n",
    "# 모델 정의\n",
    "model = tf.keras.Model(inputs=[input_wide, input_deep], outputs=[output])"
   ]
  },
  {
   "cell_type": "code",
   "execution_count": 45,
   "id": "77b54215",
   "metadata": {},
   "outputs": [
    {
     "name": "stdout",
     "output_type": "stream",
     "text": [
      "Epoch 1/20\n"
     ]
    },
    {
     "name": "stderr",
     "output_type": "stream",
     "text": [
      "c:\\Users\\SSAFY\\AppData\\Local\\Programs\\Python\\Python39\\lib\\site-packages\\keras\\src\\optimizers\\base_optimizer.py:678: UserWarning: Gradients do not exist for variables ['kernel', 'bias'] when minimizing the loss. If using `model.compile()`, did you forget to provide a `loss` argument?\n",
      "  warnings.warn(\n"
     ]
    },
    {
     "ename": "ValueError",
     "evalue": "For a model with multiple outputs, when providing the `metrics` argument as a list, it should have as many entries as the model has outputs. Received:\nmetrics=['RootMeanSquaredError']\nof length 1 whereas the model has 2 outputs.",
     "output_type": "error",
     "traceback": [
      "\u001b[1;31m---------------------------------------------------------------------------\u001b[0m",
      "\u001b[1;31mValueError\u001b[0m                                Traceback (most recent call last)",
      "Cell \u001b[1;32mIn[45], line 11\u001b[0m\n\u001b[0;32m      9\u001b[0m norm_layer_wide\u001b[38;5;241m.\u001b[39madapt(X_train_wide)\n\u001b[0;32m     10\u001b[0m norm_layer_deep\u001b[38;5;241m.\u001b[39madapt(X_train_deep)\n\u001b[1;32m---> 11\u001b[0m history \u001b[38;5;241m=\u001b[39m \u001b[43mmodel\u001b[49m\u001b[38;5;241;43m.\u001b[39;49m\u001b[43mfit\u001b[49m\u001b[43m(\u001b[49m\u001b[43m(\u001b[49m\u001b[43mX_train_wide\u001b[49m\u001b[43m,\u001b[49m\u001b[43m \u001b[49m\u001b[43mX_train_deep\u001b[49m\u001b[43m)\u001b[49m\u001b[43m,\u001b[49m\u001b[43m \u001b[49m\u001b[43my_train\u001b[49m\u001b[43m,\u001b[49m\u001b[43m \u001b[49m\u001b[43mepochs\u001b[49m\u001b[38;5;241;43m=\u001b[39;49m\u001b[38;5;241;43m20\u001b[39;49m\u001b[43m,\u001b[49m\n\u001b[0;32m     12\u001b[0m \u001b[43m                    \u001b[49m\u001b[43mvalidation_data\u001b[49m\u001b[43m \u001b[49m\u001b[38;5;241;43m=\u001b[39;49m\u001b[43m \u001b[49m\u001b[43m(\u001b[49m\u001b[43m(\u001b[49m\u001b[43mX_valid_wide\u001b[49m\u001b[43m,\u001b[49m\u001b[43m \u001b[49m\u001b[43mX_valid_deep\u001b[49m\u001b[43m)\u001b[49m\u001b[43m,\u001b[49m\u001b[43m \u001b[49m\u001b[43my_valid\u001b[49m\u001b[43m)\u001b[49m\u001b[43m)\u001b[49m\n\u001b[0;32m     13\u001b[0m mse_test \u001b[38;5;241m=\u001b[39m model\u001b[38;5;241m.\u001b[39mevaluate((X_test_wide, X_test_deep), y_test)\n\u001b[0;32m     14\u001b[0m y_pred \u001b[38;5;241m=\u001b[39m model\u001b[38;5;241m.\u001b[39mpredict((X_new_wide, X_new_deep))\n",
      "File \u001b[1;32mc:\\Users\\SSAFY\\AppData\\Local\\Programs\\Python\\Python39\\lib\\site-packages\\keras\\src\\utils\\traceback_utils.py:122\u001b[0m, in \u001b[0;36mfilter_traceback.<locals>.error_handler\u001b[1;34m(*args, **kwargs)\u001b[0m\n\u001b[0;32m    119\u001b[0m     filtered_tb \u001b[38;5;241m=\u001b[39m _process_traceback_frames(e\u001b[38;5;241m.\u001b[39m__traceback__)\n\u001b[0;32m    120\u001b[0m     \u001b[38;5;66;03m# To get the full stack trace, call:\u001b[39;00m\n\u001b[0;32m    121\u001b[0m     \u001b[38;5;66;03m# `keras.config.disable_traceback_filtering()`\u001b[39;00m\n\u001b[1;32m--> 122\u001b[0m     \u001b[38;5;28;01mraise\u001b[39;00m e\u001b[38;5;241m.\u001b[39mwith_traceback(filtered_tb) \u001b[38;5;28;01mfrom\u001b[39;00m \u001b[38;5;28;01mNone\u001b[39;00m\n\u001b[0;32m    123\u001b[0m \u001b[38;5;28;01mfinally\u001b[39;00m:\n\u001b[0;32m    124\u001b[0m     \u001b[38;5;28;01mdel\u001b[39;00m filtered_tb\n",
      "File \u001b[1;32mc:\\Users\\SSAFY\\AppData\\Local\\Programs\\Python\\Python39\\lib\\site-packages\\keras\\src\\trainers\\compile_utils.py:250\u001b[0m, in \u001b[0;36mCompileMetrics._build_metrics_set\u001b[1;34m(self, metrics, num_outputs, output_names, y_true, y_pred, argument_name)\u001b[0m\n\u001b[0;32m    248\u001b[0m \u001b[38;5;28;01mif\u001b[39;00m \u001b[38;5;28misinstance\u001b[39m(metrics, (\u001b[38;5;28mlist\u001b[39m, \u001b[38;5;28mtuple\u001b[39m)):\n\u001b[0;32m    249\u001b[0m     \u001b[38;5;28;01mif\u001b[39;00m \u001b[38;5;28mlen\u001b[39m(metrics) \u001b[38;5;241m!=\u001b[39m \u001b[38;5;28mlen\u001b[39m(y_pred):\n\u001b[1;32m--> 250\u001b[0m         \u001b[38;5;28;01mraise\u001b[39;00m \u001b[38;5;167;01mValueError\u001b[39;00m(\n\u001b[0;32m    251\u001b[0m             \u001b[38;5;124m\"\u001b[39m\u001b[38;5;124mFor a model with multiple outputs, \u001b[39m\u001b[38;5;124m\"\u001b[39m\n\u001b[0;32m    252\u001b[0m             \u001b[38;5;124mf\u001b[39m\u001b[38;5;124m\"\u001b[39m\u001b[38;5;124mwhen providing the `\u001b[39m\u001b[38;5;132;01m{\u001b[39;00margument_name\u001b[38;5;132;01m}\u001b[39;00m\u001b[38;5;124m` argument as a \u001b[39m\u001b[38;5;124m\"\u001b[39m\n\u001b[0;32m    253\u001b[0m             \u001b[38;5;124m\"\u001b[39m\u001b[38;5;124mlist, it should have as many entries as the model has \u001b[39m\u001b[38;5;124m\"\u001b[39m\n\u001b[0;32m    254\u001b[0m             \u001b[38;5;124mf\u001b[39m\u001b[38;5;124m\"\u001b[39m\u001b[38;5;124moutputs. Received:\u001b[39m\u001b[38;5;130;01m\\n\u001b[39;00m\u001b[38;5;132;01m{\u001b[39;00margument_name\u001b[38;5;132;01m}\u001b[39;00m\u001b[38;5;124m=\u001b[39m\u001b[38;5;132;01m{\u001b[39;00mmetrics\u001b[38;5;132;01m}\u001b[39;00m\u001b[38;5;130;01m\\n\u001b[39;00m\u001b[38;5;124mof \u001b[39m\u001b[38;5;124m\"\u001b[39m\n\u001b[0;32m    255\u001b[0m             \u001b[38;5;124mf\u001b[39m\u001b[38;5;124m\"\u001b[39m\u001b[38;5;124mlength \u001b[39m\u001b[38;5;132;01m{\u001b[39;00m\u001b[38;5;28mlen\u001b[39m(metrics)\u001b[38;5;132;01m}\u001b[39;00m\u001b[38;5;124m whereas the model has \u001b[39m\u001b[38;5;124m\"\u001b[39m\n\u001b[0;32m    256\u001b[0m             \u001b[38;5;124mf\u001b[39m\u001b[38;5;124m\"\u001b[39m\u001b[38;5;132;01m{\u001b[39;00m\u001b[38;5;28mlen\u001b[39m(y_pred)\u001b[38;5;132;01m}\u001b[39;00m\u001b[38;5;124m outputs.\u001b[39m\u001b[38;5;124m\"\u001b[39m\n\u001b[0;32m    257\u001b[0m         )\n\u001b[0;32m    258\u001b[0m     \u001b[38;5;28;01mfor\u001b[39;00m idx, (mls, yt, yp) \u001b[38;5;129;01min\u001b[39;00m \u001b[38;5;28menumerate\u001b[39m(\n\u001b[0;32m    259\u001b[0m         \u001b[38;5;28mzip\u001b[39m(metrics, y_true, y_pred)\n\u001b[0;32m    260\u001b[0m     ):\n\u001b[0;32m    261\u001b[0m         \u001b[38;5;28;01mif\u001b[39;00m \u001b[38;5;129;01mnot\u001b[39;00m \u001b[38;5;28misinstance\u001b[39m(mls, \u001b[38;5;28mlist\u001b[39m):\n",
      "\u001b[1;31mValueError\u001b[0m: For a model with multiple outputs, when providing the `metrics` argument as a list, it should have as many entries as the model has outputs. Received:\nmetrics=['RootMeanSquaredError']\nof length 1 whereas the model has 2 outputs."
     ]
    }
   ],
   "source": [
    "optimizer = tf.keras.optimizers.Adam(learning_rate=1e-3)\n",
    "model.compile(loss='mse', optimizer=optimizer, metrics=['RootMeanSquaredError'])\n",
    "\n",
    "X_train_wide, X_train_deep = X_train[:, :5], X_train[:, 2:]\n",
    "X_valid_wide, X_valid_deep = X_valid[:, :5], X_valid[:, 2:]\n",
    "X_test_wide, X_test_deep = X_test[:, :5], X_test[:, 2:]\n",
    "X_new_wide, X_new_deep = X_test_wide[:3], X_test_deep[:3]\n",
    "\n",
    "norm_layer_wide.adapt(X_train_wide)\n",
    "norm_layer_deep.adapt(X_train_deep)\n",
    "history = model.fit((X_train_wide, X_train_deep), y_train, epochs=20,\n",
    "                    validation_data = ((X_valid_wide, X_valid_deep), y_valid))\n",
    "mse_test = model.evaluate((X_test_wide, X_test_deep), y_test)\n",
    "y_pred = model.predict((X_new_wide, X_new_deep))"
   ]
  },
  {
   "cell_type": "code",
   "execution_count": 46,
   "id": "952e85e5",
   "metadata": {},
   "outputs": [],
   "source": [
    "# 보조 출력층\n",
    "aux_output = tf.keras.layers.Dense(1)(hidden2)\n",
    "\n",
    "# 모델 정의(보조 출력)\n",
    "model = tf.keras.Model(inputs=[input_wide, input_deep], outputs=[output, aux_output])"
   ]
  },
  {
   "cell_type": "code",
   "execution_count": 49,
   "id": "b6999d32",
   "metadata": {},
   "outputs": [],
   "source": [
    "optimizer = tf.keras.optimizers.Adam(learning_rate=1e-3)\n",
    "model.compile(loss=('mse', 'mse'), loss_weights=(0.9, 0.1), optimizer=optimizer, metrics=[\"RootMeanSquaredError\", \"RootMeanSquaredError\"])"
   ]
  },
  {
   "cell_type": "code",
   "execution_count": 50,
   "id": "1c60d44c",
   "metadata": {},
   "outputs": [
    {
     "name": "stdout",
     "output_type": "stream",
     "text": [
      "Epoch 1/20\n",
      "\u001b[1m413/413\u001b[0m \u001b[32m━━━━━━━━━━━━━━━━━━━━\u001b[0m\u001b[37m\u001b[0m \u001b[1m1s\u001b[0m 998us/step - dense_29_RootMeanSquaredError: 1.5454 - dense_29_loss: 2.2560 - dense_31_RootMeanSquaredError: 1.7275 - dense_31_loss: 0.3063 - loss: 2.5623 - val_dense_29_RootMeanSquaredError: 0.7439 - val_dense_29_loss: 0.4989 - val_dense_31_RootMeanSquaredError: 0.9236 - val_dense_31_loss: 0.0855 - val_loss: 0.5833\n",
      "Epoch 2/20\n",
      "\u001b[1m413/413\u001b[0m \u001b[32m━━━━━━━━━━━━━━━━━━━━\u001b[0m\u001b[37m\u001b[0m \u001b[1m0s\u001b[0m 741us/step - dense_29_RootMeanSquaredError: 0.6909 - dense_29_loss: 0.4297 - dense_31_RootMeanSquaredError: 0.8252 - dense_31_loss: 0.0681 - loss: 0.4978 - val_dense_29_RootMeanSquaredError: 0.6709 - val_dense_29_loss: 0.4057 - val_dense_31_RootMeanSquaredError: 0.8014 - val_dense_31_loss: 0.0643 - val_loss: 0.4693\n",
      "Epoch 3/20\n",
      "\u001b[1m413/413\u001b[0m \u001b[32m━━━━━━━━━━━━━━━━━━━━\u001b[0m\u001b[37m\u001b[0m \u001b[1m0s\u001b[0m 724us/step - dense_29_RootMeanSquaredError: 0.6452 - dense_29_loss: 0.3748 - dense_31_RootMeanSquaredError: 0.7457 - dense_31_loss: 0.0556 - loss: 0.4304 - val_dense_29_RootMeanSquaredError: 0.6464 - val_dense_29_loss: 0.3766 - val_dense_31_RootMeanSquaredError: 0.7697 - val_dense_31_loss: 0.0594 - val_loss: 0.4353\n",
      "Epoch 4/20\n",
      "\u001b[1m413/413\u001b[0m \u001b[32m━━━━━━━━━━━━━━━━━━━━\u001b[0m\u001b[37m\u001b[0m \u001b[1m0s\u001b[0m 707us/step - dense_29_RootMeanSquaredError: 0.6256 - dense_29_loss: 0.3523 - dense_31_RootMeanSquaredError: 0.7190 - dense_31_loss: 0.0517 - loss: 0.4040 - val_dense_29_RootMeanSquaredError: 0.6293 - val_dense_29_loss: 0.3569 - val_dense_31_RootMeanSquaredError: 0.7458 - val_dense_31_loss: 0.0558 - val_loss: 0.4120\n",
      "Epoch 5/20\n",
      "\u001b[1m413/413\u001b[0m \u001b[32m━━━━━━━━━━━━━━━━━━━━\u001b[0m\u001b[37m\u001b[0m \u001b[1m0s\u001b[0m 702us/step - dense_29_RootMeanSquaredError: 0.6135 - dense_29_loss: 0.3388 - dense_31_RootMeanSquaredError: 0.7017 - dense_31_loss: 0.0492 - loss: 0.3881 - val_dense_29_RootMeanSquaredError: 0.6192 - val_dense_29_loss: 0.3456 - val_dense_31_RootMeanSquaredError: 0.7282 - val_dense_31_loss: 0.0532 - val_loss: 0.3981\n",
      "Epoch 6/20\n",
      "\u001b[1m413/413\u001b[0m \u001b[32m━━━━━━━━━━━━━━━━━━━━\u001b[0m\u001b[37m\u001b[0m \u001b[1m0s\u001b[0m 982us/step - dense_29_RootMeanSquaredError: 0.6058 - dense_29_loss: 0.3305 - dense_31_RootMeanSquaredError: 0.6889 - dense_31_loss: 0.0475 - loss: 0.3779 - val_dense_29_RootMeanSquaredError: 0.6110 - val_dense_29_loss: 0.3366 - val_dense_31_RootMeanSquaredError: 0.7132 - val_dense_31_loss: 0.0510 - val_loss: 0.3869\n",
      "Epoch 7/20\n",
      "\u001b[1m413/413\u001b[0m \u001b[32m━━━━━━━━━━━━━━━━━━━━\u001b[0m\u001b[37m\u001b[0m \u001b[1m0s\u001b[0m 820us/step - dense_29_RootMeanSquaredError: 0.6000 - dense_29_loss: 0.3241 - dense_31_RootMeanSquaredError: 0.6771 - dense_31_loss: 0.0459 - loss: 0.3700 - val_dense_29_RootMeanSquaredError: 0.6040 - val_dense_29_loss: 0.3290 - val_dense_31_RootMeanSquaredError: 0.6991 - val_dense_31_loss: 0.0491 - val_loss: 0.3772\n",
      "Epoch 8/20\n",
      "\u001b[1m413/413\u001b[0m \u001b[32m━━━━━━━━━━━━━━━━━━━━\u001b[0m\u001b[37m\u001b[0m \u001b[1m0s\u001b[0m 914us/step - dense_29_RootMeanSquaredError: 0.5954 - dense_29_loss: 0.3192 - dense_31_RootMeanSquaredError: 0.6668 - dense_31_loss: 0.0445 - loss: 0.3637 - val_dense_29_RootMeanSquaredError: 0.5992 - val_dense_29_loss: 0.3239 - val_dense_31_RootMeanSquaredError: 0.6864 - val_dense_31_loss: 0.0473 - val_loss: 0.3703\n",
      "Epoch 9/20\n",
      "\u001b[1m413/413\u001b[0m \u001b[32m━━━━━━━━━━━━━━━━━━━━\u001b[0m\u001b[37m\u001b[0m \u001b[1m0s\u001b[0m 1ms/step - dense_29_RootMeanSquaredError: 0.5917 - dense_29_loss: 0.3153 - dense_31_RootMeanSquaredError: 0.6576 - dense_31_loss: 0.0432 - loss: 0.3585 - val_dense_29_RootMeanSquaredError: 0.5955 - val_dense_29_loss: 0.3200 - val_dense_31_RootMeanSquaredError: 0.6762 - val_dense_31_loss: 0.0459 - val_loss: 0.3649\n",
      "Epoch 10/20\n",
      "\u001b[1m413/413\u001b[0m \u001b[32m━━━━━━━━━━━━━━━━━━━━\u001b[0m\u001b[37m\u001b[0m \u001b[1m0s\u001b[0m 1ms/step - dense_29_RootMeanSquaredError: 0.5882 - dense_29_loss: 0.3115 - dense_31_RootMeanSquaredError: 0.6495 - dense_31_loss: 0.0422 - loss: 0.3537 - val_dense_29_RootMeanSquaredError: 0.5919 - val_dense_29_loss: 0.3162 - val_dense_31_RootMeanSquaredError: 0.6649 - val_dense_31_loss: 0.0444 - val_loss: 0.3595\n",
      "Epoch 11/20\n",
      "\u001b[1m413/413\u001b[0m \u001b[32m━━━━━━━━━━━━━━━━━━━━\u001b[0m\u001b[37m\u001b[0m \u001b[1m0s\u001b[0m 1ms/step - dense_29_RootMeanSquaredError: 0.5854 - dense_29_loss: 0.3086 - dense_31_RootMeanSquaredError: 0.6431 - dense_31_loss: 0.0414 - loss: 0.3500 - val_dense_29_RootMeanSquaredError: 0.5887 - val_dense_29_loss: 0.3130 - val_dense_31_RootMeanSquaredError: 0.6600 - val_dense_31_loss: 0.0438 - val_loss: 0.3555\n",
      "Epoch 12/20\n",
      "\u001b[1m413/413\u001b[0m \u001b[32m━━━━━━━━━━━━━━━━━━━━\u001b[0m\u001b[37m\u001b[0m \u001b[1m0s\u001b[0m 1ms/step - dense_29_RootMeanSquaredError: 0.5828 - dense_29_loss: 0.3058 - dense_31_RootMeanSquaredError: 0.6379 - dense_31_loss: 0.0407 - loss: 0.3466 - val_dense_29_RootMeanSquaredError: 0.5869 - val_dense_29_loss: 0.3111 - val_dense_31_RootMeanSquaredError: 0.6522 - val_dense_31_loss: 0.0427 - val_loss: 0.3526\n",
      "Epoch 13/20\n",
      "\u001b[1m413/413\u001b[0m \u001b[32m━━━━━━━━━━━━━━━━━━━━\u001b[0m\u001b[37m\u001b[0m \u001b[1m0s\u001b[0m 1ms/step - dense_29_RootMeanSquaredError: 0.5806 - dense_29_loss: 0.3036 - dense_31_RootMeanSquaredError: 0.6342 - dense_31_loss: 0.0402 - loss: 0.3438 - val_dense_29_RootMeanSquaredError: 0.5864 - val_dense_29_loss: 0.3107 - val_dense_31_RootMeanSquaredError: 0.6494 - val_dense_31_loss: 0.0424 - val_loss: 0.3517\n",
      "Epoch 14/20\n",
      "\u001b[1m413/413\u001b[0m \u001b[32m━━━━━━━━━━━━━━━━━━━━\u001b[0m\u001b[37m\u001b[0m \u001b[1m0s\u001b[0m 1ms/step - dense_29_RootMeanSquaredError: 0.5801 - dense_29_loss: 0.3031 - dense_31_RootMeanSquaredError: 0.6323 - dense_31_loss: 0.0400 - loss: 0.3431 - val_dense_29_RootMeanSquaredError: 0.5850 - val_dense_29_loss: 0.3092 - val_dense_31_RootMeanSquaredError: 0.6482 - val_dense_31_loss: 0.0422 - val_loss: 0.3500\n",
      "Epoch 15/20\n",
      "\u001b[1m413/413\u001b[0m \u001b[32m━━━━━━━━━━━━━━━━━━━━\u001b[0m\u001b[37m\u001b[0m \u001b[1m0s\u001b[0m 1ms/step - dense_29_RootMeanSquaredError: 0.5777 - dense_29_loss: 0.3006 - dense_31_RootMeanSquaredError: 0.6297 - dense_31_loss: 0.0397 - loss: 0.3402 - val_dense_29_RootMeanSquaredError: 0.5825 - val_dense_29_loss: 0.3065 - val_dense_31_RootMeanSquaredError: 0.6422 - val_dense_31_loss: 0.0414 - val_loss: 0.3466\n",
      "Epoch 16/20\n",
      "\u001b[1m413/413\u001b[0m \u001b[32m━━━━━━━━━━━━━━━━━━━━\u001b[0m\u001b[37m\u001b[0m \u001b[1m0s\u001b[0m 1ms/step - dense_29_RootMeanSquaredError: 0.5750 - dense_29_loss: 0.2978 - dense_31_RootMeanSquaredError: 0.6262 - dense_31_loss: 0.0392 - loss: 0.3370 - val_dense_29_RootMeanSquaredError: 0.5812 - val_dense_29_loss: 0.3051 - val_dense_31_RootMeanSquaredError: 0.6407 - val_dense_31_loss: 0.0412 - val_loss: 0.3451\n",
      "Epoch 17/20\n",
      "\u001b[1m413/413\u001b[0m \u001b[32m━━━━━━━━━━━━━━━━━━━━\u001b[0m\u001b[37m\u001b[0m \u001b[1m0s\u001b[0m 1ms/step - dense_29_RootMeanSquaredError: 0.5735 - dense_29_loss: 0.2962 - dense_31_RootMeanSquaredError: 0.6237 - dense_31_loss: 0.0389 - loss: 0.3351 - val_dense_29_RootMeanSquaredError: 0.5804 - val_dense_29_loss: 0.3042 - val_dense_31_RootMeanSquaredError: 0.6381 - val_dense_31_loss: 0.0409 - val_loss: 0.3439\n",
      "Epoch 18/20\n",
      "\u001b[1m413/413\u001b[0m \u001b[32m━━━━━━━━━━━━━━━━━━━━\u001b[0m\u001b[37m\u001b[0m \u001b[1m0s\u001b[0m 764us/step - dense_29_RootMeanSquaredError: 0.5722 - dense_29_loss: 0.2949 - dense_31_RootMeanSquaredError: 0.6219 - dense_31_loss: 0.0387 - loss: 0.3336 - val_dense_29_RootMeanSquaredError: 0.5783 - val_dense_29_loss: 0.3019 - val_dense_31_RootMeanSquaredError: 0.6406 - val_dense_31_loss: 0.0412 - val_loss: 0.3420\n",
      "Epoch 19/20\n",
      "\u001b[1m413/413\u001b[0m \u001b[32m━━━━━━━━━━━━━━━━━━━━\u001b[0m\u001b[37m\u001b[0m \u001b[1m0s\u001b[0m 758us/step - dense_29_RootMeanSquaredError: 0.5709 - dense_29_loss: 0.2936 - dense_31_RootMeanSquaredError: 0.6199 - dense_31_loss: 0.0384 - loss: 0.3320 - val_dense_29_RootMeanSquaredError: 0.5782 - val_dense_29_loss: 0.3019 - val_dense_31_RootMeanSquaredError: 0.6360 - val_dense_31_loss: 0.0406 - val_loss: 0.3414\n",
      "Epoch 20/20\n",
      "\u001b[1m413/413\u001b[0m \u001b[32m━━━━━━━━━━━━━━━━━━━━\u001b[0m\u001b[37m\u001b[0m \u001b[1m0s\u001b[0m 723us/step - dense_29_RootMeanSquaredError: 0.5698 - dense_29_loss: 0.2924 - dense_31_RootMeanSquaredError: 0.6186 - dense_31_loss: 0.0383 - loss: 0.3307 - val_dense_29_RootMeanSquaredError: 0.5773 - val_dense_29_loss: 0.3009 - val_dense_31_RootMeanSquaredError: 0.6343 - val_dense_31_loss: 0.0404 - val_loss: 0.3402\n"
     ]
    }
   ],
   "source": [
    "norm_layer_wide.adapt(X_train_wide)\n",
    "norm_layer_deep.adapt(X_train_deep)\n",
    "history = model.fit(\n",
    "  (X_train_wide, X_train_deep), (y_train, y_train), epochs=20,\n",
    "  validation_data = ((X_valid_wide, X_valid_deep), (y_valid, y_valid))\n",
    ")"
   ]
  },
  {
   "cell_type": "code",
   "execution_count": 51,
   "id": "f0ced5ad",
   "metadata": {},
   "outputs": [
    {
     "name": "stdout",
     "output_type": "stream",
     "text": [
      "\u001b[1m129/129\u001b[0m \u001b[32m━━━━━━━━━━━━━━━━━━━━\u001b[0m\u001b[37m\u001b[0m \u001b[1m0s\u001b[0m 464us/step - dense_29_RootMeanSquaredError: 0.5747 - dense_29_loss: 0.2974 - dense_31_RootMeanSquaredError: 0.6274 - dense_31_loss: 0.0394 - loss: 0.3368\n"
     ]
    }
   ],
   "source": [
    "eval_results = model.evaluate((X_test_wide, X_test_deep), (y_test, y_test))\n",
    "weighted_sum_of_losses, main_loss, aux_loss, main_rmse, aux_rmse = eval_results"
   ]
  },
  {
   "cell_type": "code",
   "execution_count": 52,
   "id": "3e873fde",
   "metadata": {},
   "outputs": [
    {
     "name": "stdout",
     "output_type": "stream",
     "text": [
      "\u001b[1m1/1\u001b[0m \u001b[32m━━━━━━━━━━━━━━━━━━━━\u001b[0m\u001b[37m\u001b[0m \u001b[1m0s\u001b[0m 44ms/step\n",
      "\u001b[1m1/1\u001b[0m \u001b[32m━━━━━━━━━━━━━━━━━━━━\u001b[0m\u001b[37m\u001b[0m \u001b[1m0s\u001b[0m 18ms/step\n"
     ]
    }
   ],
   "source": [
    "y_pred_main, y_pred_aux = model.predict((X_new_wide, X_new_deep))\n",
    "y_pred_tuple = model.predict((X_new_wide, X_new_deep))\n",
    "y_pred = dict(zip(model.output_names, y_pred_tuple))"
   ]
  },
  {
   "cell_type": "markdown",
   "id": "bf5af39f",
   "metadata": {},
   "source": [
    "### 10.2.4 서브클래싱 API로 동적 모델 만들기"
   ]
  },
  {
   "cell_type": "code",
   "execution_count": 62,
   "id": "7f30516d",
   "metadata": {},
   "outputs": [],
   "source": [
    "from tensorflow import keras\n",
    "import tensorflow as tf\n",
    "# 커스텀 모델 정의\n",
    "@tf.keras.utils.register_keras_serializable()\n",
    "class WideAndDeepModel(tf.keras.Model):\n",
    "    def __init__(self, units=30, activation='relu', **kwargs):\n",
    "        super().__init__(**kwargs)  # 모델에 이름을 부여하기 위해 필요\n",
    "        self.norm_layer_wide = tf.keras.layers.Normalization()\n",
    "        self.norm_layer_deep = tf.keras.layers.Normalization()\n",
    "        self.hidden1 = tf.keras.layers.Dense(units, activation=activation)\n",
    "        self.hidden2 = tf.keras.layers.Dense(units, activation=activation)\n",
    "        self.main_output = tf.keras.layers.Dense(1)\n",
    "        self.aux_output = tf.keras.layers.Dense(1)\n",
    "\n",
    "    def call(self, inputs):\n",
    "        input_wide, input_deep = inputs\n",
    "        norm_wide = self.norm_layer_wide(input_wide)\n",
    "        norm_deep = self.norm_layer_deep(input_deep)\n",
    "        hidden1 = self.hidden1(norm_deep)\n",
    "        hidden2 = self.hidden2(hidden1)\n",
    "        concat = tf.keras.layers.concatenate([norm_wide, hidden2])\n",
    "        output = self.main_output(concat)\n",
    "        aux_output = self.aux_output(hidden2)\n",
    "        return output, aux_output"
   ]
  },
  {
   "cell_type": "markdown",
   "id": "912ccb91",
   "metadata": {},
   "source": [
    "### 10.2.5 모델 저장과 복원하기"
   ]
  },
  {
   "cell_type": "code",
   "execution_count": 64,
   "id": "4e01534c",
   "metadata": {},
   "outputs": [
    {
     "name": "stderr",
     "output_type": "stream",
     "text": [
      "c:\\Users\\SSAFY\\AppData\\Local\\Programs\\Python\\Python39\\lib\\site-packages\\keras\\src\\saving\\saving_api.py:107: UserWarning: You are saving a model that has not yet been built. It might not contain any weights yet. Consider building the model first by calling it on some data.\n",
      "  return saving_lib.save_model(model, filepath)\n"
     ]
    }
   ],
   "source": [
    "model.save('my_keras_model.keras')"
   ]
  },
  {
   "cell_type": "code",
   "execution_count": 65,
   "id": "5b59f229",
   "metadata": {},
   "outputs": [
    {
     "ename": "TypeError",
     "evalue": "Could not locate class 'WideAndDeepModel'. Make sure custom classes are decorated with `@keras.saving.register_keras_serializable()`. Full object config: {'module': None, 'class_name': 'WideAndDeepModel', 'config': {'name': 'my_cool_model', 'trainable': True, 'dtype': {'module': 'keras', 'class_name': 'DTypePolicy', 'config': {'name': 'float32'}, 'registered_name': None}}, 'registered_name': 'WideAndDeepModel'}",
     "output_type": "error",
     "traceback": [
      "\u001b[1;31m---------------------------------------------------------------------------\u001b[0m",
      "\u001b[1;31mTypeError\u001b[0m                                 Traceback (most recent call last)",
      "Cell \u001b[1;32mIn[65], line 1\u001b[0m\n\u001b[1;32m----> 1\u001b[0m model \u001b[38;5;241m=\u001b[39m \u001b[43mtf\u001b[49m\u001b[38;5;241;43m.\u001b[39;49m\u001b[43mkeras\u001b[49m\u001b[38;5;241;43m.\u001b[39;49m\u001b[43mmodels\u001b[49m\u001b[38;5;241;43m.\u001b[39;49m\u001b[43mload_model\u001b[49m\u001b[43m(\u001b[49m\u001b[38;5;124;43m'\u001b[39;49m\u001b[38;5;124;43mmy_keras_model.keras\u001b[39;49m\u001b[38;5;124;43m'\u001b[39;49m\u001b[43m)\u001b[49m\n\u001b[0;32m      2\u001b[0m y_pred_main, y_pred_aux \u001b[38;5;241m=\u001b[39m model\u001b[38;5;241m.\u001b[39mpredict((X_new_wide, X_new_deep))\n",
      "File \u001b[1;32mc:\\Users\\SSAFY\\AppData\\Local\\Programs\\Python\\Python39\\lib\\site-packages\\keras\\src\\saving\\saving_api.py:187\u001b[0m, in \u001b[0;36mload_model\u001b[1;34m(filepath, custom_objects, compile, safe_mode)\u001b[0m\n\u001b[0;32m    184\u001b[0m         is_keras_zip \u001b[38;5;241m=\u001b[39m \u001b[38;5;28;01mTrue\u001b[39;00m\n\u001b[0;32m    186\u001b[0m \u001b[38;5;28;01mif\u001b[39;00m is_keras_zip \u001b[38;5;129;01mor\u001b[39;00m is_keras_dir:\n\u001b[1;32m--> 187\u001b[0m     \u001b[38;5;28;01mreturn\u001b[39;00m \u001b[43msaving_lib\u001b[49m\u001b[38;5;241;43m.\u001b[39;49m\u001b[43mload_model\u001b[49m\u001b[43m(\u001b[49m\n\u001b[0;32m    188\u001b[0m \u001b[43m        \u001b[49m\u001b[43mfilepath\u001b[49m\u001b[43m,\u001b[49m\n\u001b[0;32m    189\u001b[0m \u001b[43m        \u001b[49m\u001b[43mcustom_objects\u001b[49m\u001b[38;5;241;43m=\u001b[39;49m\u001b[43mcustom_objects\u001b[49m\u001b[43m,\u001b[49m\n\u001b[0;32m    190\u001b[0m \u001b[43m        \u001b[49m\u001b[38;5;28;43mcompile\u001b[39;49m\u001b[38;5;241;43m=\u001b[39;49m\u001b[38;5;28;43mcompile\u001b[39;49m\u001b[43m,\u001b[49m\n\u001b[0;32m    191\u001b[0m \u001b[43m        \u001b[49m\u001b[43msafe_mode\u001b[49m\u001b[38;5;241;43m=\u001b[39;49m\u001b[43msafe_mode\u001b[49m\u001b[43m,\u001b[49m\n\u001b[0;32m    192\u001b[0m \u001b[43m    \u001b[49m\u001b[43m)\u001b[49m\n\u001b[0;32m    193\u001b[0m \u001b[38;5;28;01mif\u001b[39;00m \u001b[38;5;28mstr\u001b[39m(filepath)\u001b[38;5;241m.\u001b[39mendswith((\u001b[38;5;124m\"\u001b[39m\u001b[38;5;124m.h5\u001b[39m\u001b[38;5;124m\"\u001b[39m, \u001b[38;5;124m\"\u001b[39m\u001b[38;5;124m.hdf5\u001b[39m\u001b[38;5;124m\"\u001b[39m)):\n\u001b[0;32m    194\u001b[0m     \u001b[38;5;28;01mreturn\u001b[39;00m legacy_h5_format\u001b[38;5;241m.\u001b[39mload_model_from_hdf5(\n\u001b[0;32m    195\u001b[0m         filepath, custom_objects\u001b[38;5;241m=\u001b[39mcustom_objects, \u001b[38;5;28mcompile\u001b[39m\u001b[38;5;241m=\u001b[39m\u001b[38;5;28mcompile\u001b[39m\n\u001b[0;32m    196\u001b[0m     )\n",
      "File \u001b[1;32mc:\\Users\\SSAFY\\AppData\\Local\\Programs\\Python\\Python39\\lib\\site-packages\\keras\\src\\saving\\saving_lib.py:365\u001b[0m, in \u001b[0;36mload_model\u001b[1;34m(filepath, custom_objects, compile, safe_mode)\u001b[0m\n\u001b[0;32m    360\u001b[0m     \u001b[38;5;28;01mraise\u001b[39;00m \u001b[38;5;167;01mValueError\u001b[39;00m(\n\u001b[0;32m    361\u001b[0m         \u001b[38;5;124m\"\u001b[39m\u001b[38;5;124mInvalid filename: expected a `.keras` extension. \u001b[39m\u001b[38;5;124m\"\u001b[39m\n\u001b[0;32m    362\u001b[0m         \u001b[38;5;124mf\u001b[39m\u001b[38;5;124m\"\u001b[39m\u001b[38;5;124mReceived: filepath=\u001b[39m\u001b[38;5;132;01m{\u001b[39;00mfilepath\u001b[38;5;132;01m}\u001b[39;00m\u001b[38;5;124m\"\u001b[39m\n\u001b[0;32m    363\u001b[0m     )\n\u001b[0;32m    364\u001b[0m \u001b[38;5;28;01mwith\u001b[39;00m \u001b[38;5;28mopen\u001b[39m(filepath, \u001b[38;5;124m\"\u001b[39m\u001b[38;5;124mrb\u001b[39m\u001b[38;5;124m\"\u001b[39m) \u001b[38;5;28;01mas\u001b[39;00m f:\n\u001b[1;32m--> 365\u001b[0m     \u001b[38;5;28;01mreturn\u001b[39;00m \u001b[43m_load_model_from_fileobj\u001b[49m\u001b[43m(\u001b[49m\n\u001b[0;32m    366\u001b[0m \u001b[43m        \u001b[49m\u001b[43mf\u001b[49m\u001b[43m,\u001b[49m\u001b[43m \u001b[49m\u001b[43mcustom_objects\u001b[49m\u001b[43m,\u001b[49m\u001b[43m \u001b[49m\u001b[38;5;28;43mcompile\u001b[39;49m\u001b[43m,\u001b[49m\u001b[43m \u001b[49m\u001b[43msafe_mode\u001b[49m\n\u001b[0;32m    367\u001b[0m \u001b[43m    \u001b[49m\u001b[43m)\u001b[49m\n",
      "File \u001b[1;32mc:\\Users\\SSAFY\\AppData\\Local\\Programs\\Python\\Python39\\lib\\site-packages\\keras\\src\\saving\\saving_lib.py:442\u001b[0m, in \u001b[0;36m_load_model_from_fileobj\u001b[1;34m(fileobj, custom_objects, compile, safe_mode)\u001b[0m\n\u001b[0;32m    439\u001b[0m \u001b[38;5;28;01mwith\u001b[39;00m zf\u001b[38;5;241m.\u001b[39mopen(_CONFIG_FILENAME, \u001b[38;5;124m\"\u001b[39m\u001b[38;5;124mr\u001b[39m\u001b[38;5;124m\"\u001b[39m) \u001b[38;5;28;01mas\u001b[39;00m f:\n\u001b[0;32m    440\u001b[0m     config_json \u001b[38;5;241m=\u001b[39m f\u001b[38;5;241m.\u001b[39mread()\n\u001b[1;32m--> 442\u001b[0m model \u001b[38;5;241m=\u001b[39m \u001b[43m_model_from_config\u001b[49m\u001b[43m(\u001b[49m\n\u001b[0;32m    443\u001b[0m \u001b[43m    \u001b[49m\u001b[43mconfig_json\u001b[49m\u001b[43m,\u001b[49m\u001b[43m \u001b[49m\u001b[43mcustom_objects\u001b[49m\u001b[43m,\u001b[49m\u001b[43m \u001b[49m\u001b[38;5;28;43mcompile\u001b[39;49m\u001b[43m,\u001b[49m\u001b[43m \u001b[49m\u001b[43msafe_mode\u001b[49m\n\u001b[0;32m    444\u001b[0m \u001b[43m\u001b[49m\u001b[43m)\u001b[49m\n\u001b[0;32m    446\u001b[0m all_filenames \u001b[38;5;241m=\u001b[39m zf\u001b[38;5;241m.\u001b[39mnamelist()\n\u001b[0;32m    447\u001b[0m extract_dir \u001b[38;5;241m=\u001b[39m \u001b[38;5;28;01mNone\u001b[39;00m\n",
      "File \u001b[1;32mc:\\Users\\SSAFY\\AppData\\Local\\Programs\\Python\\Python39\\lib\\site-packages\\keras\\src\\saving\\saving_lib.py:431\u001b[0m, in \u001b[0;36m_model_from_config\u001b[1;34m(config_json, custom_objects, compile, safe_mode)\u001b[0m\n\u001b[0;32m    429\u001b[0m \u001b[38;5;66;03m# Construct the model from the configuration file in the archive.\u001b[39;00m\n\u001b[0;32m    430\u001b[0m \u001b[38;5;28;01mwith\u001b[39;00m ObjectSharingScope():\n\u001b[1;32m--> 431\u001b[0m     model \u001b[38;5;241m=\u001b[39m \u001b[43mdeserialize_keras_object\u001b[49m\u001b[43m(\u001b[49m\n\u001b[0;32m    432\u001b[0m \u001b[43m        \u001b[49m\u001b[43mconfig_dict\u001b[49m\u001b[43m,\u001b[49m\u001b[43m \u001b[49m\u001b[43mcustom_objects\u001b[49m\u001b[43m,\u001b[49m\u001b[43m \u001b[49m\u001b[43msafe_mode\u001b[49m\u001b[38;5;241;43m=\u001b[39;49m\u001b[43msafe_mode\u001b[49m\n\u001b[0;32m    433\u001b[0m \u001b[43m    \u001b[49m\u001b[43m)\u001b[49m\n\u001b[0;32m    434\u001b[0m \u001b[38;5;28;01mreturn\u001b[39;00m model\n",
      "File \u001b[1;32mc:\\Users\\SSAFY\\AppData\\Local\\Programs\\Python\\Python39\\lib\\site-packages\\keras\\src\\saving\\serialization_lib.py:694\u001b[0m, in \u001b[0;36mdeserialize_keras_object\u001b[1;34m(config, custom_objects, safe_mode, **kwargs)\u001b[0m\n\u001b[0;32m    691\u001b[0m     \u001b[38;5;28;01mif\u001b[39;00m obj \u001b[38;5;129;01mis\u001b[39;00m \u001b[38;5;129;01mnot\u001b[39;00m \u001b[38;5;28;01mNone\u001b[39;00m:\n\u001b[0;32m    692\u001b[0m         \u001b[38;5;28;01mreturn\u001b[39;00m obj\n\u001b[1;32m--> 694\u001b[0m \u001b[38;5;28mcls\u001b[39m \u001b[38;5;241m=\u001b[39m \u001b[43m_retrieve_class_or_fn\u001b[49m\u001b[43m(\u001b[49m\n\u001b[0;32m    695\u001b[0m \u001b[43m    \u001b[49m\u001b[43mclass_name\u001b[49m\u001b[43m,\u001b[49m\n\u001b[0;32m    696\u001b[0m \u001b[43m    \u001b[49m\u001b[43mregistered_name\u001b[49m\u001b[43m,\u001b[49m\n\u001b[0;32m    697\u001b[0m \u001b[43m    \u001b[49m\u001b[43mmodule\u001b[49m\u001b[43m,\u001b[49m\n\u001b[0;32m    698\u001b[0m \u001b[43m    \u001b[49m\u001b[43mobj_type\u001b[49m\u001b[38;5;241;43m=\u001b[39;49m\u001b[38;5;124;43m\"\u001b[39;49m\u001b[38;5;124;43mclass\u001b[39;49m\u001b[38;5;124;43m\"\u001b[39;49m\u001b[43m,\u001b[49m\n\u001b[0;32m    699\u001b[0m \u001b[43m    \u001b[49m\u001b[43mfull_config\u001b[49m\u001b[38;5;241;43m=\u001b[39;49m\u001b[43mconfig\u001b[49m\u001b[43m,\u001b[49m\n\u001b[0;32m    700\u001b[0m \u001b[43m    \u001b[49m\u001b[43mcustom_objects\u001b[49m\u001b[38;5;241;43m=\u001b[39;49m\u001b[43mcustom_objects\u001b[49m\u001b[43m,\u001b[49m\n\u001b[0;32m    701\u001b[0m \u001b[43m\u001b[49m\u001b[43m)\u001b[49m\n\u001b[0;32m    703\u001b[0m \u001b[38;5;28;01mif\u001b[39;00m \u001b[38;5;28misinstance\u001b[39m(\u001b[38;5;28mcls\u001b[39m, types\u001b[38;5;241m.\u001b[39mFunctionType):\n\u001b[0;32m    704\u001b[0m     \u001b[38;5;28;01mreturn\u001b[39;00m \u001b[38;5;28mcls\u001b[39m\n",
      "File \u001b[1;32mc:\\Users\\SSAFY\\AppData\\Local\\Programs\\Python\\Python39\\lib\\site-packages\\keras\\src\\saving\\serialization_lib.py:812\u001b[0m, in \u001b[0;36m_retrieve_class_or_fn\u001b[1;34m(name, registered_name, module, obj_type, full_config, custom_objects)\u001b[0m\n\u001b[0;32m    809\u001b[0m     \u001b[38;5;28;01mif\u001b[39;00m obj \u001b[38;5;129;01mis\u001b[39;00m \u001b[38;5;129;01mnot\u001b[39;00m \u001b[38;5;28;01mNone\u001b[39;00m:\n\u001b[0;32m    810\u001b[0m         \u001b[38;5;28;01mreturn\u001b[39;00m obj\n\u001b[1;32m--> 812\u001b[0m \u001b[38;5;28;01mraise\u001b[39;00m \u001b[38;5;167;01mTypeError\u001b[39;00m(\n\u001b[0;32m    813\u001b[0m     \u001b[38;5;124mf\u001b[39m\u001b[38;5;124m\"\u001b[39m\u001b[38;5;124mCould not locate \u001b[39m\u001b[38;5;132;01m{\u001b[39;00mobj_type\u001b[38;5;132;01m}\u001b[39;00m\u001b[38;5;124m \u001b[39m\u001b[38;5;124m'\u001b[39m\u001b[38;5;132;01m{\u001b[39;00mname\u001b[38;5;132;01m}\u001b[39;00m\u001b[38;5;124m'\u001b[39m\u001b[38;5;124m. \u001b[39m\u001b[38;5;124m\"\u001b[39m\n\u001b[0;32m    814\u001b[0m     \u001b[38;5;124m\"\u001b[39m\u001b[38;5;124mMake sure custom classes are decorated with \u001b[39m\u001b[38;5;124m\"\u001b[39m\n\u001b[0;32m    815\u001b[0m     \u001b[38;5;124m\"\u001b[39m\u001b[38;5;124m`@keras.saving.register_keras_serializable()`. \u001b[39m\u001b[38;5;124m\"\u001b[39m\n\u001b[0;32m    816\u001b[0m     \u001b[38;5;124mf\u001b[39m\u001b[38;5;124m\"\u001b[39m\u001b[38;5;124mFull object config: \u001b[39m\u001b[38;5;132;01m{\u001b[39;00mfull_config\u001b[38;5;132;01m}\u001b[39;00m\u001b[38;5;124m\"\u001b[39m\n\u001b[0;32m    817\u001b[0m )\n",
      "\u001b[1;31mTypeError\u001b[0m: Could not locate class 'WideAndDeepModel'. Make sure custom classes are decorated with `@keras.saving.register_keras_serializable()`. Full object config: {'module': None, 'class_name': 'WideAndDeepModel', 'config': {'name': 'my_cool_model', 'trainable': True, 'dtype': {'module': 'keras', 'class_name': 'DTypePolicy', 'config': {'name': 'float32'}, 'registered_name': None}}, 'registered_name': 'WideAndDeepModel'}"
     ]
    }
   ],
   "source": [
    "model = tf.keras.models.load_model('my_keras_model.keras')\n",
    "y_pred_main, y_pred_aux = model.predict((X_new_wide, X_new_deep))"
   ]
  },
  {
   "cell_type": "markdown",
   "id": "eab0047b",
   "metadata": {},
   "source": [
    "### 10.2.6 콜백 사용하기"
   ]
  },
  {
   "cell_type": "code",
   "execution_count": 70,
   "id": "cbc17036",
   "metadata": {},
   "outputs": [],
   "source": [
    "checkpoint_cb = tf.keras.callbacks.ModelCheckpoint('my_checkpoints.weights.h5', save_weights_only=True)\n",
    "# history = model.fit([...], callbacks=[checkpoint_cb])"
   ]
  },
  {
   "cell_type": "code",
   "execution_count": 71,
   "id": "51d35b51",
   "metadata": {},
   "outputs": [],
   "source": [
    "early_stopping_cb = tf.keras.callbacks.EarlyStopping(patience=10, restore_best_weights=True)\n",
    "# history = model.fit([...], callbacks=[checkpoint_cb, early_stopping_cb])"
   ]
  },
  {
   "cell_type": "code",
   "execution_count": 72,
   "id": "72b4f0c2",
   "metadata": {},
   "outputs": [],
   "source": [
    "class PrintValTrainRatioCallback(tf.keras.callbacks.Callback):\n",
    "  def on_epoch_end(self, epoch, logs):\n",
    "    ratio = logs['val_loss'] / logs['loss']\n",
    "    print(f'Epoch={epoch}, val/train={ratio:2f}')"
   ]
  },
  {
   "cell_type": "markdown",
   "id": "1543bb1c",
   "metadata": {},
   "source": [
    "### 10.2.7 텐서보드로 시각화하기"
   ]
  },
  {
   "cell_type": "code",
   "execution_count": 73,
   "id": "56b934a6",
   "metadata": {},
   "outputs": [],
   "source": [
    "from pathlib import Path\n",
    "from time import strftime\n",
    "\n",
    "def get_run_logdir(root_logdir='my_logs'):\n",
    "  return Path(root_logdir) / strftime(\"run_%Y_%m_%d_%H_%M_%S\")\n",
    "\n",
    "run_logdir = get_run_logdir()"
   ]
  },
  {
   "cell_type": "code",
   "execution_count": 74,
   "id": "f7666f43",
   "metadata": {},
   "outputs": [],
   "source": [
    "tensorboard_cb = tf.keras.callbacks.TensorBoard(run_logdir, profile_batch=(100, 200))\n",
    "# history = model.fit([...], callbacks=[tensorboard_cb])"
   ]
  },
  {
   "cell_type": "code",
   "execution_count": 75,
   "id": "1bf0fde5",
   "metadata": {},
   "outputs": [],
   "source": [
    "# %load_ext tensorboard\n",
    "# %tensorboard --logdir=./my_logs"
   ]
  },
  {
   "cell_type": "code",
   "execution_count": 78,
   "id": "7a4409b6",
   "metadata": {},
   "outputs": [],
   "source": [
    "test_logdir = get_run_logdir()\n",
    "writer = tf.summary.create_file_writer(str(test_logdir))\n",
    "with writer.as_default():\n",
    "  for step in range(1, 1000 + 1):\n",
    "    tf.summary.scalar(\"my_scalar\", np.sin(step/10), step=step)\n",
    "    \n",
    "    data = (np.random.randn(100) + 2)*step / 100 # 점점 커집니다.\n",
    "    tf.summary.histogram(\"my_hist\", data, buckets=50, step=step)\n",
    "    \n",
    "    images = np.random.randn(2, 32, 32, 3) * step / 1000 # 점점 밝아집니다.\n",
    "    tf.summary.image('my_images', images, step=step)\n",
    "    \n",
    "    texts = ['The step is ' + str(step), 'Its square is ' + str(step**2)]\n",
    "    tf.summary.text('my_text', texts, step=step)\n",
    "    \n",
    "    sine_wave = tf.math.sin(tf.range(12000) / 48000 * 2 * np.pi * step)\n",
    "    audio = tf.reshape(tf.cast(sine_wave, tf.float32), [1, -1, 1])\n",
    "    tf.summary.audio('my_audio', audio, sample_rate=48000, step=step)"
   ]
  },
  {
   "cell_type": "markdown",
   "id": "052848a0",
   "metadata": {},
   "source": [
    "## 10.3 신경망 하이퍼 파라미터 튜닝하기"
   ]
  },
  {
   "cell_type": "code",
   "execution_count": null,
   "id": "78bf79a1",
   "metadata": {},
   "outputs": [],
   "source": []
  },
  {
   "cell_type": "code",
   "execution_count": null,
   "id": "92de51fa",
   "metadata": {},
   "outputs": [],
   "source": []
  },
  {
   "cell_type": "markdown",
   "id": "d300e058",
   "metadata": {},
   "source": [
    "# Tensorflow\n",
    "\n",
    "- 구글에서 개발한 수치 계산과 대규모 머신러닝을 위한 오픈소스 라이브러리\n",
    "- CPU/GPU 모드가 있는데, GPU 모드는 NVIDIA의 그래픽 카드가 없으면 사용할 수 없음\n",
    "- GPU 모드는 CPU의 성능이 아닌 GPU의 성능이 중요\n",
    "\n",
    "## 텐서플로우가 제공하는 것\n",
    "- 핵심 구조는 numpy와 비슷, GPU를 지원\n",
    "- (여러 장치와 서버에 대해)분산 컴퓨팅을 지원\n",
    "- JIT 컴파일러 포함. 속도를 높이고 메모리 사용량을 줄이기 위해 계산 최적화\n",
    "    - 파이썬 함수에서 계산 그래프를 추출한 후 최적화(가지치기) 효율적으로 실행. \n",
    "    - 독립적인 연산을 자동으로 병렬 실행\n",
    "- 계산 그래프는 플랫폼에 중립적인 포맷으로 내보낼 수 있으므로 한 환경에서 텐스플로 모델을 훈련하고 다른 환경에서 실행 가능\n",
    "- 텐서플로는 후진 모드 자동 미분 기능과 RMSProp, Nadam과 같은 고성능 옵티마이저를 제공하므로 모든 종류의 손실함수 쉽게 최소화\n",
    "\n",
    "### 참고 사이트\n",
    "- [TFX](https://tensorflow.org/tfx) \n",
    "- [텐서플로 모델 저장소](https://github.com/tensorflow/models) \n",
    "- [텐서플로 리소스 페이지](https://www.tensorflow.org/resources) : 텐서플로 기반 프로젝트\n",
    "- [텐서플로 기반 프로젝트](https://github.com/jtoy/awesome-tensorflow)\n",
    "- [스택오버플로](https://stackoverflow.com) : 기술적인 질문 시\n",
    "- [텐서플로 깃허브](https://github.com/tensorflow/tensorflow) : 버그를 알리거나 새 기능 요청\n",
    "- [텐서플로 포럼](https://discuss.tensorflow.org) : 일반적인 이야기\n",
    "\n",
    "## Tensor\n",
    "- Tensorflow의 기본 데이터 구조, 다차원 배열. 데이터는 텐서로 표현됨\n",
    "- ndarray(numpy의 다차원 배열)\n",
    "- 스칼라 값도 가질 수 있음(42 같은 단순한 값)\n",
    "-사용자 정의 손실 함수, 사용자 정의 지표, 사용자 정의 층 등을 만들 때 중요. \n",
    "\n"
   ]
  },
  {
   "cell_type": "code",
   "execution_count": 1,
   "id": "336e53af",
   "metadata": {},
   "outputs": [],
   "source": [
    "import tensorflow as tf"
   ]
  },
  {
   "cell_type": "code",
   "execution_count": 2,
   "id": "419f4c05",
   "metadata": {},
   "outputs": [
    {
     "name": "stdout",
     "output_type": "stream",
     "text": [
      "Downloading data from https://storage.googleapis.com/tensorflow/tf-keras-datasets/mnist.npz\n",
      "\u001b[1m11490434/11490434\u001b[0m \u001b[32m━━━━━━━━━━━━━━━━━━━━\u001b[0m\u001b[37m\u001b[0m \u001b[1m1s\u001b[0m 0us/step\n",
      "Epoch 1/5\n"
     ]
    },
    {
     "name": "stderr",
     "output_type": "stream",
     "text": [
      "c:\\Users\\SSAFY\\AppData\\Local\\Programs\\Python\\Python39\\lib\\site-packages\\keras\\src\\layers\\reshaping\\flatten.py:37: UserWarning: Do not pass an `input_shape`/`input_dim` argument to a layer. When using Sequential models, prefer using an `Input(shape)` object as the first layer in the model instead.\n",
      "  super().__init__(**kwargs)\n"
     ]
    },
    {
     "name": "stdout",
     "output_type": "stream",
     "text": [
      "\u001b[1m1875/1875\u001b[0m \u001b[32m━━━━━━━━━━━━━━━━━━━━\u001b[0m\u001b[37m\u001b[0m \u001b[1m2s\u001b[0m 807us/step - accuracy: 0.8604 - loss: 0.4806\n",
      "Epoch 2/5\n",
      "\u001b[1m1875/1875\u001b[0m \u001b[32m━━━━━━━━━━━━━━━━━━━━\u001b[0m\u001b[37m\u001b[0m \u001b[1m2s\u001b[0m 802us/step - accuracy: 0.9553 - loss: 0.1509\n",
      "Epoch 3/5\n",
      "\u001b[1m1875/1875\u001b[0m \u001b[32m━━━━━━━━━━━━━━━━━━━━\u001b[0m\u001b[37m\u001b[0m \u001b[1m1s\u001b[0m 789us/step - accuracy: 0.9669 - loss: 0.1104\n",
      "Epoch 4/5\n",
      "\u001b[1m1875/1875\u001b[0m \u001b[32m━━━━━━━━━━━━━━━━━━━━\u001b[0m\u001b[37m\u001b[0m \u001b[1m1s\u001b[0m 780us/step - accuracy: 0.9718 - loss: 0.0890\n",
      "Epoch 5/5\n",
      "\u001b[1m1875/1875\u001b[0m \u001b[32m━━━━━━━━━━━━━━━━━━━━\u001b[0m\u001b[37m\u001b[0m \u001b[1m2s\u001b[0m 794us/step - accuracy: 0.9777 - loss: 0.0711\n",
      "\u001b[1m313/313\u001b[0m \u001b[32m━━━━━━━━━━━━━━━━━━━━\u001b[0m\u001b[37m\u001b[0m \u001b[1m0s\u001b[0m 469us/step - accuracy: 0.9721 - loss: 0.0920\n"
     ]
    },
    {
     "data": {
      "text/plain": [
       "[0.07621729373931885, 0.9768000245094299]"
      ]
     },
     "execution_count": 2,
     "metadata": {},
     "output_type": "execute_result"
    }
   ],
   "source": [
    "mnist = tf.keras.datasets.mnist\n",
    "\n",
    "(x_train, y_train),(x_test, y_test) = mnist.load_data()\n",
    "x_train, x_test = x_train / 255.0, x_test / 255.0\n",
    "\n",
    "model = tf.keras.models.Sequential([\n",
    "  tf.keras.layers.Flatten(input_shape=(28, 28)),\n",
    "  tf.keras.layers.Dense(128, activation='relu'),\n",
    "  tf.keras.layers.Dropout(0.2),\n",
    "  tf.keras.layers.Dense(10, activation='softmax')\n",
    "])\n",
    "\n",
    "model.compile(optimizer='adam',\n",
    "  loss='sparse_categorical_crossentropy',\n",
    "  metrics=['accuracy'])\n",
    "\n",
    "model.fit(x_train, y_train, epochs=5)\n",
    "model.evaluate(x_test, y_test)"
   ]
  },
  {
   "cell_type": "markdown",
   "id": "9f67d558",
   "metadata": {},
   "source": [
    "# 12.2. 넘파이와 텐서플로\n",
    "## 12.2.1. 텐서와 연산\n",
    "- tf.constant()로 텐서 생성 가능, 2행 3열의 실수 행렬을 나타내는 텐서"
   ]
  },
  {
   "cell_type": "code",
   "execution_count": 3,
   "id": "09abb27a",
   "metadata": {},
   "outputs": [
    {
     "data": {
      "text/plain": [
       "<tf.Tensor: shape=(2, 3), dtype=float32, numpy=\n",
       "array([[1., 2., 3.],\n",
       "       [4., 5., 6.]], dtype=float32)>"
      ]
     },
     "execution_count": 3,
     "metadata": {},
     "output_type": "execute_result"
    }
   ],
   "source": [
    "t = tf.constant([[1., 2., 3.], [4., 5., 6.]])\n",
    "t"
   ]
  },
  {
   "cell_type": "markdown",
   "id": "9c4aaabe",
   "metadata": {},
   "source": [
    "- tf.Tensor는 크기(shape)와 데이터 타입(dtype)을 가짐"
   ]
  },
  {
   "cell_type": "code",
   "execution_count": 4,
   "id": "f3cbdfa1",
   "metadata": {},
   "outputs": [
    {
     "data": {
      "text/plain": [
       "TensorShape([2, 3])"
      ]
     },
     "execution_count": 4,
     "metadata": {},
     "output_type": "execute_result"
    }
   ],
   "source": [
    "t.shape"
   ]
  },
  {
   "cell_type": "code",
   "execution_count": 5,
   "id": "1ab60004",
   "metadata": {},
   "outputs": [
    {
     "data": {
      "text/plain": [
       "tf.float32"
      ]
     },
     "execution_count": 5,
     "metadata": {},
     "output_type": "execute_result"
    }
   ],
   "source": [
    "t.dtype"
   ]
  },
  {
   "cell_type": "code",
   "execution_count": 6,
   "id": "48951b6c",
   "metadata": {},
   "outputs": [
    {
     "data": {
      "text/plain": [
       "<tf.Tensor: shape=(2, 2), dtype=float32, numpy=\n",
       "array([[2., 3.],\n",
       "       [5., 6.]], dtype=float32)>"
      ]
     },
     "execution_count": 6,
     "metadata": {},
     "output_type": "execute_result"
    }
   ],
   "source": [
    "# 인덱스 참조\n",
    "t[:, 1:]"
   ]
  },
  {
   "cell_type": "code",
   "execution_count": 7,
   "id": "4551aa38",
   "metadata": {},
   "outputs": [
    {
     "data": {
      "text/plain": [
       "<tf.Tensor: shape=(2, 1), dtype=float32, numpy=\n",
       "array([[2.],\n",
       "       [5.]], dtype=float32)>"
      ]
     },
     "execution_count": 7,
     "metadata": {},
     "output_type": "execute_result"
    }
   ],
   "source": [
    "t[..., 1, tf.newaxis] # 1열을 추출"
   ]
  },
  {
   "cell_type": "markdown",
   "id": "b95d5f20",
   "metadata": {},
   "source": [
    "- 모든 종류의 텐서 연산이 가능"
   ]
  },
  {
   "cell_type": "code",
   "execution_count": 8,
   "id": "4802f1a4",
   "metadata": {},
   "outputs": [
    {
     "data": {
      "text/plain": [
       "<tf.Tensor: shape=(2, 3), dtype=float32, numpy=\n",
       "array([[11., 12., 13.],\n",
       "       [14., 15., 16.]], dtype=float32)>"
      ]
     },
     "execution_count": 8,
     "metadata": {},
     "output_type": "execute_result"
    }
   ],
   "source": [
    "t + 10\n",
    "# tf.add(t, 10)"
   ]
  },
  {
   "cell_type": "code",
   "execution_count": 9,
   "id": "0f6cbc34",
   "metadata": {},
   "outputs": [
    {
     "data": {
      "text/plain": [
       "<tf.Tensor: shape=(2, 3), dtype=float32, numpy=\n",
       "array([[ 1.,  4.,  9.],\n",
       "       [16., 25., 36.]], dtype=float32)>"
      ]
     },
     "execution_count": 9,
     "metadata": {},
     "output_type": "execute_result"
    }
   ],
   "source": [
    "tf.square(t) # 원소들을 제곱"
   ]
  },
  {
   "cell_type": "code",
   "execution_count": 10,
   "id": "8904fa98",
   "metadata": {},
   "outputs": [
    {
     "data": {
      "text/plain": [
       "<tf.Tensor: shape=(2, 2), dtype=float32, numpy=\n",
       "array([[14., 32.],\n",
       "       [32., 77.]], dtype=float32)>"
      ]
     },
     "execution_count": 10,
     "metadata": {},
     "output_type": "execute_result"
    }
   ],
   "source": [
    "t @ tf.transpose(t) # 행렬곱 "
   ]
  },
  {
   "cell_type": "code",
   "execution_count": 11,
   "id": "051da259",
   "metadata": {},
   "outputs": [
    {
     "data": {
      "text/plain": [
       "array([[38, 49],\n",
       "       [60, 79]])"
      ]
     },
     "execution_count": 11,
     "metadata": {},
     "output_type": "execute_result"
    }
   ],
   "source": [
    "import numpy as np\n",
    "a = np.array([[2,3,4],[4,5,6]])\n",
    "b = np.array([[1,3],[4,5],[6,7]])\n",
    "a @ b"
   ]
  },
  {
   "cell_type": "markdown",
   "id": "7789c670",
   "metadata": {},
   "source": [
    "- 스칼라 값을 가지는 텐서, 이 경우 크기는 비어 있음"
   ]
  },
  {
   "cell_type": "code",
   "execution_count": 12,
   "id": "5e771d3a",
   "metadata": {},
   "outputs": [
    {
     "data": {
      "text/plain": [
       "<tf.Tensor: shape=(), dtype=int32, numpy=42>"
      ]
     },
     "execution_count": 12,
     "metadata": {},
     "output_type": "execute_result"
    }
   ],
   "source": [
    "tf.constant(42)"
   ]
  },
  {
   "cell_type": "markdown",
   "id": "d9ec7ab4",
   "metadata": {},
   "source": [
    "### 텐서플로가 제공하는 연산\n",
    "#### 기본 수학 연산\n",
    "\n",
    "- `tf.add()`\n",
    "  - 두 텐서를 요소별로 더함\n",
    "  - **Example:** `tf.add(x, y)`\n",
    "\n",
    "- `tf.multiply()`\n",
    "  - 두 텐서를 요소별로 곱함\n",
    "  - **Example:** `tf.multiply(x, y)`\n",
    "\n",
    "- `tf.square()`\n",
    "  - 텐서의 각 요소를 제곱함\n",
    "  - **Example:** `tf.square(x)`\n",
    "\n",
    "- `tf.exp()`\n",
    "  - 텐서의 각 요소에 대해 자연로그 밑 e의 지수 함수를 계산\n",
    "  - **Example:** `tf.exp(x)`\n",
    "\n",
    "- `tf.sqrt()`\n",
    "  - 텐서의 각 요소에 대해 제곱근을 계산\n",
    "  - **Example:** `tf.sqrt(x)`\n",
    "\n",
    "#### numpy 제공 연산\n",
    "\n",
    "- `tf.reshape()`\n",
    "  - 텐서를 지정된 모양으로 재구성\n",
    "  - **Example:** `tf.reshape(x, shape)`\n",
    "\n",
    "- `tf.squeeze()`\n",
    "  - 텐서에서 크기가 1인 차원을 제거\n",
    "  - **Example:** `tf.squeeze(x)`\n",
    "\n",
    "- `tf.tile()`\n",
    "  - 텐서를 지정된 횟수만큼 반복\n",
    "  - **Example:** `tf.tile(x, multiples)`\n",
    "\n",
    "#### numpy와 이름이 다른 연산\n",
    "\n",
    "- `tf.reduce_mean() = np.mean()`\n",
    "  - 텐서의 요소들에 대한 평균을 계산\n",
    "  - **Example:** `tf.reduce_mean(x)`\n",
    "\n",
    "- `tf.reduce_sum() = np.sum()`\n",
    "  - 텐서의 요소들에 대한 합을 계산\n",
    "  - **Example:** `tf.reduce_sum(x)`\n",
    "\n",
    "- `tf.reduce_max() = np.max()`\n",
    "  - 텐서의 요소들 중 최대값을 계산\n",
    "  - **Example:** `tf.reduce_max(x)`\n",
    "\n",
    "- `tf.math.log() = np.log()`\n",
    "  - 텐서의 각 요소에 대해 자연로그를 계산\n",
    "  - **Example:** `tf.math.log(x)`"
   ]
  },
  {
   "cell_type": "markdown",
   "id": "b430f087",
   "metadata": {},
   "source": [
    "## 12.2.2. 텐서와 넘파이\n",
    "- numpy 배열로 텐서를 만들 수 있고, 그 반대도 가능\n",
    "- numpy 배열에 텐서플로 연산을 적용할 수 있고 텐서에 numpy 연산을 적용 가능"
   ]
  },
  {
   "cell_type": "code",
   "execution_count": 13,
   "id": "9c47a49d",
   "metadata": {},
   "outputs": [
    {
     "data": {
      "text/plain": [
       "<tf.Tensor: shape=(3,), dtype=float64, numpy=array([2., 4., 5.])>"
      ]
     },
     "execution_count": 13,
     "metadata": {},
     "output_type": "execute_result"
    }
   ],
   "source": [
    "import numpy as np\n",
    "a = np.array([2., 4., 5.])\n",
    "tf.constant(a)"
   ]
  },
  {
   "cell_type": "code",
   "execution_count": 14,
   "id": "f7631903",
   "metadata": {},
   "outputs": [
    {
     "data": {
      "text/plain": [
       "array([[1., 2., 3.],\n",
       "       [4., 5., 6.]], dtype=float32)"
      ]
     },
     "execution_count": 14,
     "metadata": {},
     "output_type": "execute_result"
    }
   ],
   "source": [
    "t.numpy()"
   ]
  },
  {
   "cell_type": "code",
   "execution_count": 15,
   "id": "0671ab85",
   "metadata": {},
   "outputs": [
    {
     "data": {
      "text/plain": [
       "<tf.Tensor: shape=(3,), dtype=float64, numpy=array([ 4., 16., 25.])>"
      ]
     },
     "execution_count": 15,
     "metadata": {},
     "output_type": "execute_result"
    }
   ],
   "source": [
    "tf.square(a)"
   ]
  },
  {
   "cell_type": "code",
   "execution_count": 16,
   "id": "b507df45",
   "metadata": {},
   "outputs": [
    {
     "data": {
      "text/plain": [
       "array([[ 1.,  4.,  9.],\n",
       "       [16., 25., 36.]], dtype=float32)"
      ]
     },
     "execution_count": 16,
     "metadata": {},
     "output_type": "execute_result"
    }
   ],
   "source": [
    "np.square(t)"
   ]
  },
  {
   "cell_type": "markdown",
   "id": "a9a1fa2f",
   "metadata": {},
   "source": [
    "## 12.2.3. 타입 변환\n",
    "- 타입 변환은 성능 감소 우려\n",
    "- 따라서 자동 타입 변환 X\n",
    "- 호환되지 않는 타입의 텐서로 연산 실행 시 예외 발생\n",
    "    - 실수 + 정수 텐서 연산 불가\n",
    "    - 32비트 실수와 64비트 실수도 연산 불가"
   ]
  },
  {
   "cell_type": "code",
   "execution_count": 17,
   "id": "03fb21ba",
   "metadata": {},
   "outputs": [
    {
     "ename": "InvalidArgumentError",
     "evalue": "cannot compute AddV2 as input #1(zero-based) was expected to be a float tensor but is a int32 tensor [Op:AddV2] name: ",
     "output_type": "error",
     "traceback": [
      "\u001b[1;31m---------------------------------------------------------------------------\u001b[0m",
      "\u001b[1;31mInvalidArgumentError\u001b[0m                      Traceback (most recent call last)",
      "Cell \u001b[1;32mIn[17], line 2\u001b[0m\n\u001b[0;32m      1\u001b[0m \u001b[38;5;66;03m# 정수 + 실수 연산 불가\u001b[39;00m\n\u001b[1;32m----> 2\u001b[0m \u001b[43mtf\u001b[49m\u001b[38;5;241;43m.\u001b[39;49m\u001b[43mconstant\u001b[49m\u001b[43m(\u001b[49m\u001b[38;5;241;43m2.\u001b[39;49m\u001b[43m)\u001b[49m\u001b[43m \u001b[49m\u001b[38;5;241;43m+\u001b[39;49m\u001b[43m \u001b[49m\u001b[43mtf\u001b[49m\u001b[38;5;241;43m.\u001b[39;49m\u001b[43mconstant\u001b[49m\u001b[43m(\u001b[49m\u001b[38;5;241;43m40\u001b[39;49m\u001b[43m)\u001b[49m\n",
      "File \u001b[1;32mc:\\Users\\SSAFY\\AppData\\Local\\Programs\\Python\\Python39\\lib\\site-packages\\tensorflow\\python\\util\\traceback_utils.py:153\u001b[0m, in \u001b[0;36mfilter_traceback.<locals>.error_handler\u001b[1;34m(*args, **kwargs)\u001b[0m\n\u001b[0;32m    151\u001b[0m \u001b[38;5;28;01mexcept\u001b[39;00m \u001b[38;5;167;01mException\u001b[39;00m \u001b[38;5;28;01mas\u001b[39;00m e:\n\u001b[0;32m    152\u001b[0m   filtered_tb \u001b[38;5;241m=\u001b[39m _process_traceback_frames(e\u001b[38;5;241m.\u001b[39m__traceback__)\n\u001b[1;32m--> 153\u001b[0m   \u001b[38;5;28;01mraise\u001b[39;00m e\u001b[38;5;241m.\u001b[39mwith_traceback(filtered_tb) \u001b[38;5;28;01mfrom\u001b[39;00m \u001b[38;5;28;01mNone\u001b[39;00m\n\u001b[0;32m    154\u001b[0m \u001b[38;5;28;01mfinally\u001b[39;00m:\n\u001b[0;32m    155\u001b[0m   \u001b[38;5;28;01mdel\u001b[39;00m filtered_tb\n",
      "File \u001b[1;32mc:\\Users\\SSAFY\\AppData\\Local\\Programs\\Python\\Python39\\lib\\site-packages\\tensorflow\\python\\framework\\ops.py:5983\u001b[0m, in \u001b[0;36mraise_from_not_ok_status\u001b[1;34m(e, name)\u001b[0m\n\u001b[0;32m   5981\u001b[0m \u001b[38;5;28;01mdef\u001b[39;00m \u001b[38;5;21mraise_from_not_ok_status\u001b[39m(e, name) \u001b[38;5;241m-\u001b[39m\u001b[38;5;241m>\u001b[39m NoReturn:\n\u001b[0;32m   5982\u001b[0m   e\u001b[38;5;241m.\u001b[39mmessage \u001b[38;5;241m+\u001b[39m\u001b[38;5;241m=\u001b[39m (\u001b[38;5;124m\"\u001b[39m\u001b[38;5;124m name: \u001b[39m\u001b[38;5;124m\"\u001b[39m \u001b[38;5;241m+\u001b[39m \u001b[38;5;28mstr\u001b[39m(name \u001b[38;5;28;01mif\u001b[39;00m name \u001b[38;5;129;01mis\u001b[39;00m \u001b[38;5;129;01mnot\u001b[39;00m \u001b[38;5;28;01mNone\u001b[39;00m \u001b[38;5;28;01melse\u001b[39;00m \u001b[38;5;124m\"\u001b[39m\u001b[38;5;124m\"\u001b[39m))\n\u001b[1;32m-> 5983\u001b[0m   \u001b[38;5;28;01mraise\u001b[39;00m core\u001b[38;5;241m.\u001b[39m_status_to_exception(e) \u001b[38;5;28;01mfrom\u001b[39;00m \u001b[38;5;28;01mNone\u001b[39;00m\n",
      "\u001b[1;31mInvalidArgumentError\u001b[0m: cannot compute AddV2 as input #1(zero-based) was expected to be a float tensor but is a int32 tensor [Op:AddV2] name: "
     ]
    }
   ],
   "source": [
    "# 정수 + 실수 연산 불가\n",
    "tf.constant(2.) + tf.constant(40)"
   ]
  },
  {
   "cell_type": "code",
   "execution_count": 18,
   "id": "c63925a8",
   "metadata": {},
   "outputs": [
    {
     "ename": "InvalidArgumentError",
     "evalue": "cannot compute AddV2 as input #1(zero-based) was expected to be a float tensor but is a double tensor [Op:AddV2] name: ",
     "output_type": "error",
     "traceback": [
      "\u001b[1;31m---------------------------------------------------------------------------\u001b[0m",
      "\u001b[1;31mInvalidArgumentError\u001b[0m                      Traceback (most recent call last)",
      "Cell \u001b[1;32mIn[18], line 2\u001b[0m\n\u001b[0;32m      1\u001b[0m \u001b[38;5;66;03m# 32비트와 64비트 연산 불가\u001b[39;00m\n\u001b[1;32m----> 2\u001b[0m \u001b[43mtf\u001b[49m\u001b[38;5;241;43m.\u001b[39;49m\u001b[43mconstant\u001b[49m\u001b[43m(\u001b[49m\u001b[38;5;241;43m2.\u001b[39;49m\u001b[43m)\u001b[49m\u001b[43m \u001b[49m\u001b[38;5;241;43m+\u001b[39;49m\u001b[43m \u001b[49m\u001b[43mtf\u001b[49m\u001b[38;5;241;43m.\u001b[39;49m\u001b[43mconstant\u001b[49m\u001b[43m(\u001b[49m\u001b[38;5;241;43m40.\u001b[39;49m\u001b[43m,\u001b[49m\u001b[43m \u001b[49m\u001b[43mdtype\u001b[49m\u001b[43m \u001b[49m\u001b[38;5;241;43m=\u001b[39;49m\u001b[43m \u001b[49m\u001b[43mtf\u001b[49m\u001b[38;5;241;43m.\u001b[39;49m\u001b[43mfloat64\u001b[49m\u001b[43m)\u001b[49m\n",
      "File \u001b[1;32mc:\\Users\\SSAFY\\AppData\\Local\\Programs\\Python\\Python39\\lib\\site-packages\\tensorflow\\python\\util\\traceback_utils.py:153\u001b[0m, in \u001b[0;36mfilter_traceback.<locals>.error_handler\u001b[1;34m(*args, **kwargs)\u001b[0m\n\u001b[0;32m    151\u001b[0m \u001b[38;5;28;01mexcept\u001b[39;00m \u001b[38;5;167;01mException\u001b[39;00m \u001b[38;5;28;01mas\u001b[39;00m e:\n\u001b[0;32m    152\u001b[0m   filtered_tb \u001b[38;5;241m=\u001b[39m _process_traceback_frames(e\u001b[38;5;241m.\u001b[39m__traceback__)\n\u001b[1;32m--> 153\u001b[0m   \u001b[38;5;28;01mraise\u001b[39;00m e\u001b[38;5;241m.\u001b[39mwith_traceback(filtered_tb) \u001b[38;5;28;01mfrom\u001b[39;00m \u001b[38;5;28;01mNone\u001b[39;00m\n\u001b[0;32m    154\u001b[0m \u001b[38;5;28;01mfinally\u001b[39;00m:\n\u001b[0;32m    155\u001b[0m   \u001b[38;5;28;01mdel\u001b[39;00m filtered_tb\n",
      "File \u001b[1;32mc:\\Users\\SSAFY\\AppData\\Local\\Programs\\Python\\Python39\\lib\\site-packages\\tensorflow\\python\\framework\\ops.py:5983\u001b[0m, in \u001b[0;36mraise_from_not_ok_status\u001b[1;34m(e, name)\u001b[0m\n\u001b[0;32m   5981\u001b[0m \u001b[38;5;28;01mdef\u001b[39;00m \u001b[38;5;21mraise_from_not_ok_status\u001b[39m(e, name) \u001b[38;5;241m-\u001b[39m\u001b[38;5;241m>\u001b[39m NoReturn:\n\u001b[0;32m   5982\u001b[0m   e\u001b[38;5;241m.\u001b[39mmessage \u001b[38;5;241m+\u001b[39m\u001b[38;5;241m=\u001b[39m (\u001b[38;5;124m\"\u001b[39m\u001b[38;5;124m name: \u001b[39m\u001b[38;5;124m\"\u001b[39m \u001b[38;5;241m+\u001b[39m \u001b[38;5;28mstr\u001b[39m(name \u001b[38;5;28;01mif\u001b[39;00m name \u001b[38;5;129;01mis\u001b[39;00m \u001b[38;5;129;01mnot\u001b[39;00m \u001b[38;5;28;01mNone\u001b[39;00m \u001b[38;5;28;01melse\u001b[39;00m \u001b[38;5;124m\"\u001b[39m\u001b[38;5;124m\"\u001b[39m))\n\u001b[1;32m-> 5983\u001b[0m   \u001b[38;5;28;01mraise\u001b[39;00m core\u001b[38;5;241m.\u001b[39m_status_to_exception(e) \u001b[38;5;28;01mfrom\u001b[39;00m \u001b[38;5;28;01mNone\u001b[39;00m\n",
      "\u001b[1;31mInvalidArgumentError\u001b[0m: cannot compute AddV2 as input #1(zero-based) was expected to be a float tensor but is a double tensor [Op:AddV2] name: "
     ]
    }
   ],
   "source": [
    "# 32비트와 64비트 연산 불가\n",
    "tf.constant(2.) + tf.constant(40., dtype = tf.float64)"
   ]
  },
  {
   "cell_type": "code",
   "execution_count": 19,
   "id": "87716d90",
   "metadata": {},
   "outputs": [
    {
     "data": {
      "text/plain": [
       "<tf.Tensor: shape=(), dtype=float32, numpy=42.0>"
      ]
     },
     "execution_count": 19,
     "metadata": {},
     "output_type": "execute_result"
    }
   ],
   "source": [
    "# 타입 변환\n",
    "t2 = tf.constant(40., dtype = tf.float64)\n",
    "tf.constant(2.0) + tf.cast(t2, tf.float32)"
   ]
  },
  {
   "cell_type": "markdown",
   "id": "1459069a",
   "metadata": {},
   "source": [
    "## 12.2.4. 변수\n",
    "- tf.Tensor : 변경 불가능한 객체\n",
    "- tf.Variable : 변경 가능한 객체(신경망의 가중치를 저장, 시간에 따라 변경되는 파라미터에 사용)"
   ]
  },
  {
   "cell_type": "code",
   "execution_count": 20,
   "id": "211ea5fa",
   "metadata": {},
   "outputs": [
    {
     "data": {
      "text/plain": [
       "<tf.Variable 'Variable:0' shape=(2, 3) dtype=float32, numpy=\n",
       "array([[1., 2., 3.],\n",
       "       [4., 5., 6.]], dtype=float32)>"
      ]
     },
     "execution_count": 20,
     "metadata": {},
     "output_type": "execute_result"
    }
   ],
   "source": [
    "v = tf.Variable([[1., 2., 3.], [4., 5., 6.]])\n",
    "v"
   ]
  },
  {
   "cell_type": "markdown",
   "id": "6e0f3af4",
   "metadata": {},
   "source": [
    "- tf.Varaible은 tf.Tensor와 동일한 연산 가능\n",
    "- numpy와 호환도 가능\n",
    "- assign 메서드를 사용하여 변숫값을 바꿀 수 있음\n",
    "- assign을 통하지 않은 직접 수정은 불가"
   ]
  },
  {
   "cell_type": "code",
   "execution_count": 21,
   "id": "67181768",
   "metadata": {},
   "outputs": [
    {
     "data": {
      "text/plain": [
       "<tf.Variable 'UnreadVariable' shape=(2, 3) dtype=float32, numpy=\n",
       "array([[ 2.,  4.,  6.],\n",
       "       [ 8., 10., 12.]], dtype=float32)>"
      ]
     },
     "execution_count": 21,
     "metadata": {},
     "output_type": "execute_result"
    }
   ],
   "source": [
    "v.assign(2 * v) # 바로 저장"
   ]
  },
  {
   "cell_type": "code",
   "execution_count": 22,
   "id": "edcfdaf1",
   "metadata": {},
   "outputs": [
    {
     "data": {
      "text/plain": [
       "<tf.Variable 'UnreadVariable' shape=(2, 3) dtype=float32, numpy=\n",
       "array([[ 2., 42.,  6.],\n",
       "       [ 8., 10., 12.]], dtype=float32)>"
      ]
     },
     "execution_count": 22,
     "metadata": {},
     "output_type": "execute_result"
    }
   ],
   "source": [
    "v[0, 1].assign(42) # 바로 저장"
   ]
  },
  {
   "cell_type": "code",
   "execution_count": 23,
   "id": "63284aa7",
   "metadata": {},
   "outputs": [
    {
     "data": {
      "text/plain": [
       "<tf.Variable 'UnreadVariable' shape=(2, 3) dtype=float32, numpy=\n",
       "array([[ 2., 42.,  0.],\n",
       "       [ 8., 10.,  1.]], dtype=float32)>"
      ]
     },
     "execution_count": 23,
     "metadata": {},
     "output_type": "execute_result"
    }
   ],
   "source": [
    "v[:, 2].assign([0, 1.])"
   ]
  },
  {
   "cell_type": "code",
   "execution_count": 24,
   "id": "9c1e6252",
   "metadata": {},
   "outputs": [
    {
     "data": {
      "text/plain": [
       "<tf.Variable 'UnreadVariable' shape=(2, 3) dtype=float32, numpy=\n",
       "array([[100.,  42.,   0.],\n",
       "       [  8.,  10., 200.]], dtype=float32)>"
      ]
     },
     "execution_count": 24,
     "metadata": {},
     "output_type": "execute_result"
    }
   ],
   "source": [
    "# 0행 0열과 1행 2열을 각각 100., 200.으로 변경\n",
    "v.scatter_nd_update(indices = [[0, 0], [1, 2]], updates = [100., 200.])"
   ]
  },
  {
   "cell_type": "markdown",
   "id": "ad3058b6",
   "metadata": {},
   "source": [
    "## 12.2.5. 다른 데이터 구조\n",
    "- 희소 텐서(tf.SparseTensor)\n",
    "    - 대부분 0으로 채워진 텐서를 효율적으로 나타냄\n",
    "    - tf.sparse패키지는 희소 텐서를 위한 연산을 제공\n",
    "- 텐서 배열(tf.TensorArray)\n",
    "    - 텐서의 리스트, 기본적으로 고정된 길이를 가지나 동적으로 바꿀 수 있음\n",
    "    - 리스트에 포함된 모든 텐서는 크기와 데이터 타입이 동일해야 함\n",
    "- 래그드 텐서(tf.RaggedTensor)\n",
    "    - 리스트를 나타냄\n",
    "    - 모든 텐서는 랭크와 데이터 타입이 같아야 하지만 크기는 다를 수 있음\n",
    "    - 텐서의 크기가 달라지는 차원을 래그드 차원이라고 부름\n",
    "    - tf.ragged 패키지는 래그드 텐서를 위한 연산을 제공\n",
    "- 문자열 텐서\n",
    "    - tf.string 타입의 텐서\n",
    "    - 유니코드가 아닌 바이트 문자열을 나타냄\n",
    "    - 자동으로 UTF-8로 인코딩\n",
    "    - 유니코드 포인트를 나타내는 tf.int32 텐서를 사용해 유니코드 문자열을 표현 가능\n",
    "    - tf.strings 패키지는 바이트 문자열, 유니코드 문자열과 이런 텐서 사이의 변환을 위한 연산을 제공\n",
    "    - tf.string은 기본 데이터 타입이므로 문자열의 길이가 텐서 크기에 나타나지 않음\n",
    "    - 유니코드 텐서로 바꾸면 문자열 길이가 텐서 크기에 표현\n",
    "- 집합\n",
    "    - 집합은 일반 텐서 혹은 희소텐서로 표현\n",
    "    - `tf.constant([[1, 2], [3, 4]])`는 두 개의 집합 `{1, 2}`, `{3, 4}`를 나타냄\n",
    "    - 각 집합은 텐서의 마지막 축에 있는 벡터에 의해 표현\n",
    "    - tf.sets 패키지의 연산을 사용해 집합을 다룰 수 있음\n",
    "- 큐\n",
    "    - 단계별로 텐서를 저장\n",
    "    - FIFOQueue : 일반적인 큐\n",
    "    - PriorityQueue : 우선순위 큐\n",
    "    - RandoShuffleQueue : 원소를 섞는 큐\n",
    "    - PaddingFIFOQueue : 패딩을 추가해 크기가 다른 원소의 배치를 만드는 큐\n",
    "    - tf.queue 패키지에 포함"
   ]
  },
  {
   "cell_type": "markdown",
   "id": "6271ff3a",
   "metadata": {},
   "source": [
    "# 12.3. 사용자 정의 모델과 훈련 알고리즘\n",
    "## 12.3.1. 사용자 정의 손실 함수\n",
    "- 후버 손실함수 구현\n",
    "- 레이블과 모델의 예측을 매개변수로 받는 함수를 만들고 텐서플로 연산을 사용해 손실을 모두 담은 텐서를 계산"
   ]
  },
  {
   "cell_type": "code",
   "execution_count": 25,
   "id": "e8a68d4f",
   "metadata": {},
   "outputs": [],
   "source": [
    "# 사용자 정의 후버 손실함수\n",
    "def huber_fn(y_true, y_pred):\n",
    "    error = y_true - y_pred\n",
    "    is_small_error = tf.abs(error) < 1\n",
    "    squared_loss = tf.square(error) / 2\n",
    "    linear_loss = tf.abs(error) - 0.5\n",
    "    return tf.where(is_small_error, squared_loss, linear_loss)\n",
    "\n",
    "# model.compile(loss = huber_fn, optimizer = 'nadam')\n",
    "# model.fit(X_train, y_train, [...])"
   ]
  },
  {
   "cell_type": "markdown",
   "id": "2e5ae7d2",
   "metadata": {},
   "source": [
    "## 12.3.2 사용자 정의 요소를 가진 모델을 저장하고 로드하기"
   ]
  },
  {
   "cell_type": "code",
   "execution_count": null,
   "id": "eeeaf14c",
   "metadata": {},
   "outputs": [],
   "source": [
    "model = tf.keras.models.load_model('my_model_with_a_custom_loss', custom_objects = {'huber_fn' : huber_fn})"
   ]
  },
  {
   "cell_type": "markdown",
   "id": "19a0629b",
   "metadata": {},
   "source": [
    "- 매개변수를 받을 수 있는 함수 적용"
   ]
  },
  {
   "cell_type": "code",
   "execution_count": 26,
   "id": "f1777f12",
   "metadata": {},
   "outputs": [],
   "source": [
    "def create_huber(threshold = 1.0):\n",
    "    def huber_fn(y_true, y_pred):\n",
    "        error = y_true - y_pred\n",
    "        is_small_error = tf.abs(error) < 1\n",
    "        squared_loss = tf.square(error) / 2\n",
    "        linear_loss = tf.abs(error) - 0.5\n",
    "        return tf.where(is_small_error, squared_loss, linear_loss)\n",
    "    return huber_fn\n",
    "\n",
    "# model.compile(loss=create_huber(2.0), optimezer = 'nadam')"
   ]
  },
  {
   "cell_type": "markdown",
   "id": "ffb2d523",
   "metadata": {},
   "source": [
    "- 모델 저장 시 threshold값은 저장 X, 로드 할 때 threshold 값을 지정해야 함"
   ]
  },
  {
   "cell_type": "code",
   "execution_count": 37,
   "id": "1afea421",
   "metadata": {},
   "outputs": [],
   "source": [
    "# model = tf.kereas.models.load_model('my_model_with_a_custom_loss_threshold_2', \n",
    "#                                     custom_objects = {'huber_fn' : create_huber(2.0)})"
   ]
  },
  {
   "cell_type": "markdown",
   "id": "3e740b1e",
   "metadata": {},
   "source": [
    "- tf.keras.losses.Loss 클래스를 상속하고 get_config() 메서드를 구현해 해결 가능"
   ]
  },
  {
   "cell_type": "code",
   "execution_count": 27,
   "id": "9c32efd0",
   "metadata": {},
   "outputs": [],
   "source": [
    "class HuberLoss(tf.keras.losses.Loss):\n",
    "    # 부모 클래스의 생성자에 전달\n",
    "    def __init__(self, threshold = 1.0, **kwargs):\n",
    "        self.threshold = threshold\n",
    "        super().__init__(**kwargs)\n",
    "    \n",
    "    # 레이블과 예측을 받고 모든 샘플의 손실을 계산해 반환\n",
    "    def call(self, y_true, y_pred):\n",
    "        error = y_true - y_pred\n",
    "        is_small_error = tf.abs(error) < self.threshold\n",
    "        squared_loss = tf.square(error) / 2\n",
    "        linear_loss = self.threshold * tf.abs(error)  - self.threshold ** 2 / 2\n",
    "        return tf.where(is_small_error, squared_loss, linear_loss)\n",
    "    \n",
    "    # 하이퍼파라미터 이름과 같이 매핑된 딕셔너리 반환\n",
    "    # 먼저 부모 클래스의 get_config() 메서드 호출\n",
    "    # 그 다음 딕셔너리에 새로운 파라미터 추가\n",
    "    def get_config(self):\n",
    "        base_config = super().get_config()\n",
    "        return { **base_config, 'threshold' : self.threshold }"
   ]
  },
  {
   "cell_type": "code",
   "execution_count": 39,
   "id": "4c7c3bd9",
   "metadata": {},
   "outputs": [],
   "source": [
    "# model.compile(loss = HuberLoss(2.), optimizer='nadam')"
   ]
  },
  {
   "cell_type": "markdown",
   "id": "208b2661",
   "metadata": {},
   "source": [
    "- 모델 로드 시 클래스 이름과 클래스 자체를 매핑"
   ]
  },
  {
   "cell_type": "code",
   "execution_count": 40,
   "id": "83c3d770",
   "metadata": {},
   "outputs": [],
   "source": [
    "# model = tf.keras.models.load_model('my_model_with_a_custom_loss_class', \n",
    "#                                   custom_objects = {'HuberLoss':HuberLoss})"
   ]
  },
  {
   "cell_type": "markdown",
   "id": "e96d17a1",
   "metadata": {},
   "source": [
    "## 12.3.3 활성화 함수, 초기화, 규제, 제한을 커스터마이징하기"
   ]
  },
  {
   "cell_type": "code",
   "execution_count": 28,
   "id": "777093cc",
   "metadata": {},
   "outputs": [],
   "source": [
    "# 사용자 정의 활성화 함수\n",
    "# tf.keras.activations.softplus() 와 동일\n",
    "def my_softplus(z):\n",
    "    return tf.math.log(1.0 + tf.exp(z))\n",
    "\n",
    "# 사용자 정의 글로럿 초기화\n",
    "# tf.keras.initializers.glorat_normal() 과 동일\n",
    "def my_glorot_initializer(shape, dtype = tf.float32):\n",
    "    stddev = tf.sqrt(2. / (shape[0] + shape[1]))\n",
    "    return tf.random.normal(shape, stddev = stddev, dtype = dtype)\n",
    "\n",
    "# 사용자 정의 L1 규제\n",
    "# tf.keras.regularizers.l1(0.01)과 동일\n",
    "def my_l1_regularizer(weights):\n",
    "    return tf.reduce_sum(tf.abs(0.01 * weights))\n",
    "\n",
    "# 사용자 정의 제한(양수인 가중치만 남기는)\n",
    "# tf.keras.constraints.nonneg()\n",
    "# tf.nn.relu() 와 동일\n",
    "def my_positive_weights(weights):\n",
    "    return tf.where(weights < 0, tf.zeros_like(weights), weights)"
   ]
  },
  {
   "cell_type": "markdown",
   "id": "2c6034fc",
   "metadata": {},
   "source": [
    "- 층 예시"
   ]
  },
  {
   "cell_type": "code",
   "execution_count": 29,
   "id": "2bed96c2",
   "metadata": {},
   "outputs": [],
   "source": [
    "layer = tf.keras.layers.Dense(1, activation = my_softplus, \n",
    "                             kernel_initializer = my_glorot_initializer,\n",
    "                             kernel_regularizer = my_l1_regularizer,\n",
    "                             kernel_constraint = my_positive_weights)"
   ]
  },
  {
   "cell_type": "markdown",
   "id": "1dc0d980",
   "metadata": {},
   "source": [
    "- 이 활성화 함수는 Dense 층의 출력에 적용되고 그 다음 층에 그 결과가 전달\n",
    "- 층의 가중치는 초기화 함수에서 반환된 값으로 초기화\n",
    "- 훈련 스텝마다 가중치가 규제 함수에 전달되어 규제 손실을 계산하고 전체 손실에 추가되어 최종 손실 생성\n",
    "- 제한 함수가 훈련 스텝마다 호출되어 층의 가중치를 제한한 가중치 값으로 바뀜\n",
    "\n",
    "- 함수가 모델과 함께 저장해야 할 파라미터를 가지고 있는 경우 적절한 클래스를 상속한다.\n",
    "- factor 하이퍼 파라미터를 저장하는 L1 규제를 위한 간단한 클래스의 예"
   ]
  },
  {
   "cell_type": "code",
   "execution_count": 30,
   "id": "78cdd3ce",
   "metadata": {},
   "outputs": [],
   "source": [
    "class MyL1regularizer(tf.keras.regularizers.Regularizer):\n",
    "    def __init__(self, factor):\n",
    "        self.factor = factor\n",
    "    \n",
    "    def __call__(self, weights):\n",
    "        return tf.reduce_sum(tf.abs(self.factor * weights))\n",
    "    \n",
    "    def get_config(self):\n",
    "        return {'factor' : self.factor}"
   ]
  },
  {
   "cell_type": "markdown",
   "id": "e01aa726",
   "metadata": {},
   "source": [
    "## 12.3.4. 사용자 정의 지표"
   ]
  },
  {
   "cell_type": "markdown",
   "id": "6e5c2095",
   "metadata": {},
   "source": [
    "### 손실과 지표의 차이\n",
    "- 손실\n",
    "    - 모델을 훈련하기 위해 경사 하강법에서 사용 및 미분 가능\n",
    "    - 기울기가 모든 곳에서 0이 아니어야 함\n",
    "- 지표\n",
    "    - 모델 평가 시 사용\n",
    "    - 모든 곳에서 기울기가 0이어도 괜찮음\n",
    "    - 미분 불가능해도 됨\n",
    "- 대부분의 경우 사용자 지표 함수를 만드는 것은 사용자 손실 함수를 만드는 것과 동일"
   ]
  },
  {
   "cell_type": "code",
   "execution_count": 44,
   "id": "04d7ea0e",
   "metadata": {},
   "outputs": [],
   "source": [
    "# model.compile(loss = 'mse', optimizer = 'nadam', metrics = [create_huber(2.0)])"
   ]
  },
  {
   "cell_type": "markdown",
   "id": "4e7d5ad3",
   "metadata": {},
   "source": [
    "- 훈련하는 동안 각 배치에 대해 케라스는 지표를 계산하고 에포크가 시작할 때부터 평균을 기록\n",
    "- 평균은 지표의 평균을 기록하는 것이 아닌 개수를 기록\n",
    "- tf.keras.metrics.Precision 클래스가 하는 일"
   ]
  },
  {
   "cell_type": "code",
   "execution_count": 31,
   "id": "364dee79",
   "metadata": {},
   "outputs": [
    {
     "data": {
      "text/plain": [
       "<tf.Tensor: shape=(), dtype=float32, numpy=0.8>"
      ]
     },
     "execution_count": 31,
     "metadata": {},
     "output_type": "execute_result"
    }
   ],
   "source": [
    "precision = tf.keras.metrics.Precision()\n",
    "precision([0, 1, 1, 1, 0, 1, 0, 1], [1, 1, 0, 1, 0, 1, 0, 1])"
   ]
  },
  {
   "cell_type": "code",
   "execution_count": 32,
   "id": "620a3970",
   "metadata": {},
   "outputs": [
    {
     "data": {
      "text/plain": [
       "<tf.Tensor: shape=(), dtype=float32, numpy=0.5>"
      ]
     },
     "execution_count": 32,
     "metadata": {},
     "output_type": "execute_result"
    }
   ],
   "source": [
    "# - 두 번째 배치의 정밀도가 아닌 누적 정밀도를 계산\n",
    "precision([0, 1, 0, 0, 1, 0, 1, 1], [1, 0, 1, 1, 0, 0, 0, 0])"
   ]
  },
  {
   "cell_type": "code",
   "execution_count": 33,
   "id": "b099f8df",
   "metadata": {},
   "outputs": [
    {
     "data": {
      "text/plain": [
       "<tf.Tensor: shape=(), dtype=float32, numpy=0.5>"
      ]
     },
     "execution_count": 33,
     "metadata": {},
     "output_type": "execute_result"
    }
   ],
   "source": [
    "precision.result()"
   ]
  },
  {
   "cell_type": "code",
   "execution_count": 34,
   "id": "fe41debe",
   "metadata": {},
   "outputs": [
    {
     "data": {
      "text/plain": [
       "[<tf.Variable 'true_positives:0' shape=(1,) dtype=float32, numpy=array([4.], dtype=float32)>,\n",
       " <tf.Variable 'false_positives:0' shape=(1,) dtype=float32, numpy=array([4.], dtype=float32)>]"
      ]
     },
     "execution_count": 34,
     "metadata": {},
     "output_type": "execute_result"
    }
   ],
   "source": [
    "precision.variables"
   ]
  },
  {
   "cell_type": "code",
   "execution_count": 35,
   "id": "e76d3a55",
   "metadata": {},
   "outputs": [],
   "source": [
    "precision.reset_states() # 변수 초기화"
   ]
  },
  {
   "cell_type": "code",
   "execution_count": 36,
   "id": "e618980d",
   "metadata": {},
   "outputs": [],
   "source": [
    "class HuberMetric(tf.keras.metrics.Metric):\n",
    "    # 지표의 상태를 기록하기 위한 변수를 생성\n",
    "    def __init__(self, threshold = 1.0, **kwargs):\n",
    "        super().__init__(**kwargs)\n",
    "        self.threshold = threshold\n",
    "        self.huber_fn = create_huber(threshold)\n",
    "        self.total = self.add_weight('total', initializer='zeros') # 후버 손실의 합\n",
    "        self.count = self.add_weight('count', initializer='zeros') # 처리한 샘플 수\n",
    "    \n",
    "    # 이 클래스를 함수처럼 사용할 때 호출\n",
    "    # 배치의 레이블과 예측을 바탕으로 변수 업데이트\n",
    "    def update_state(self, y_true, y_pred, sample_weight = None):\n",
    "        sample_metrics = self.huber_fn(y_true, y_pred)\n",
    "        self.total.assign_add(tf.reduce_sum(sample_metrics))\n",
    "        self.count.assign_add(tf.cast(tf.size(y_true), tf.float32))\n",
    "    \n",
    "    # 최종 결과를 계산하고 반환\n",
    "    def result(self):\n",
    "        return self.total / self.count\n",
    "    \n",
    "    # threshold 변수를 모델과 함께 저장\n",
    "    def get_config(self):\n",
    "        base_config = super().get_config()\n",
    "        return { **base_config, \"threshold\" : self.threshold}"
   ]
  },
  {
   "cell_type": "markdown",
   "id": "cf76413c",
   "metadata": {},
   "source": [
    "## 12.3.5 사용자 정의 층"
   ]
  },
  {
   "cell_type": "code",
   "execution_count": 38,
   "id": "0d44cce7",
   "metadata": {},
   "outputs": [],
   "source": [
    "exponential_layer = tf.keras.layers.Lambda(lambda x: tf.exp(x))"
   ]
  },
  {
   "cell_type": "code",
   "execution_count": null,
   "id": "9ed9ca66",
   "metadata": {},
   "outputs": [],
   "source": []
  }
 ],
 "metadata": {
  "kernelspec": {
   "display_name": "Python 3 (ipykernel)",
   "language": "python",
   "name": "python3"
  },
  "language_info": {
   "codemirror_mode": {
    "name": "ipython",
    "version": 3
   },
   "file_extension": ".py",
   "mimetype": "text/x-python",
   "name": "python",
   "nbconvert_exporter": "python",
   "pygments_lexer": "ipython3",
   "version": "3.9.13"
  }
 },
 "nbformat": 4,
 "nbformat_minor": 5
}
